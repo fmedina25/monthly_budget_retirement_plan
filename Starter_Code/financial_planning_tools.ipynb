{
 "cells": [
  {
   "cell_type": "markdown",
   "source": [
    "# Financial Planning with APIs and Simulations\n",
    "\n",
    "In this Challenge, you’ll create two financial analysis tools by using a single Jupyter notebook:\n",
    "\n",
    "Part 1: A financial planner for emergencies. The members will be able to use this tool to visualize their current savings. The members can then determine if they have enough reserves for an emergency fund.\n",
    "\n",
    "Part 2: A financial planner for retirement. This tool will forecast the performance of their retirement portfolio in 30 years. To do this, the tool will make an Alpaca API call via the Alpaca SDK to get historical price data for use in Monte Carlo simulations.\n",
    "\n",
    "You’ll use the information from the Monte Carlo simulation to answer questions about the portfolio in your Jupyter notebook.\n",
    "\n"
   ],
   "metadata": {}
  },
  {
   "cell_type": "code",
   "execution_count": 2,
   "source": [
    "# Import the required libraries and dependencies\r\n",
    "import os\r\n",
    "import requests\r\n",
    "import json\r\n",
    "import pandas as pd\r\n",
    "from dotenv import load_dotenv\r\n",
    "import alpaca_trade_api as tradeapi\r\n",
    "from MCForecastTools import MCSimulation\r\n",
    "\r\n",
    "%matplotlib inline"
   ],
   "outputs": [],
   "metadata": {}
  },
  {
   "cell_type": "code",
   "execution_count": 3,
   "source": [
    "# Load the environment variables from the .env file\r\n",
    "#by calling the load_dotenv function\r\n",
    "load_dotenv()"
   ],
   "outputs": [
    {
     "output_type": "execute_result",
     "data": {
      "text/plain": [
       "True"
      ]
     },
     "metadata": {},
     "execution_count": 3
    }
   ],
   "metadata": {}
  },
  {
   "cell_type": "markdown",
   "source": [
    "\r\n",
    "\r\n",
    "\r\n",
    "\r\n",
    "## Part 1: Create a Financial Planner for Emergencies"
   ],
   "metadata": {}
  },
  {
   "cell_type": "markdown",
   "source": [
    "### Evaluate the Cryptocurrency Wallet by Using the Requests Library\n",
    "\n",
    "In this section, you’ll determine the current value of a member’s cryptocurrency wallet. You’ll collect the current prices for the Bitcoin and Ethereum cryptocurrencies by using the Python Requests library. For the prototype, you’ll assume that the member holds the 1.2 Bitcoins (BTC) and 5.3 Ethereum coins (ETH). To do all this, complete the following steps:\n",
    "\n",
    "1. Create a variable named `monthly_income`, and set its value to `12000`.\n",
    "\n",
    "2. Use the Requests library to get the current price (in US dollars) of Bitcoin (BTC) and Ethereum (ETH) by using the API endpoints that the starter code supplies.\n",
    "\n",
    "3. Navigate the JSON response object to access the current price of each coin, and store each in a variable.\n",
    "\n",
    "    > **Hint** Note the specific identifier for each cryptocurrency in the API JSON response. The Bitcoin identifier is `1`, and the Ethereum identifier is `1027`.\n",
    "\n",
    "4. Calculate the value, in US dollars, of the current amount of each cryptocurrency and of the entire cryptocurrency wallet.\n",
    "\n"
   ],
   "metadata": {}
  },
  {
   "cell_type": "code",
   "execution_count": 4,
   "source": [
    "# The current number of coins for each cryptocurrency asset held in the portfolio.\r\n",
    "btc_coins = 1.2\r\n",
    "eth_coins = 5.3"
   ],
   "outputs": [],
   "metadata": {}
  },
  {
   "cell_type": "markdown",
   "source": [
    "\r\n",
    "#### Step 1: Create a variable named `monthly_income`, and set its value to `12000`."
   ],
   "metadata": {}
  },
  {
   "cell_type": "code",
   "execution_count": 5,
   "source": [
    "# The monthly amount for the member's household income\r\n",
    "monthly_income = 12000\r\n"
   ],
   "outputs": [],
   "metadata": {}
  },
  {
   "cell_type": "markdown",
   "source": [
    "#### Review the endpoint URLs for the API calls to Free Crypto API in order to get the current pricing information for both BTC and ETH."
   ],
   "metadata": {}
  },
  {
   "cell_type": "code",
   "execution_count": 6,
   "source": [
    "# The Free Crypto API Call endpoint URLs for the held cryptocurrency assets\r\n",
    "btc_url = \"https://api.alternative.me/v2/ticker/Bitcoin/?convert=USD\"\r\n",
    "eth_url = \"https://api.alternative.me/v2/ticker/Ethereum/?convert=USD\""
   ],
   "outputs": [],
   "metadata": {}
  },
  {
   "cell_type": "markdown",
   "source": [
    "#### Step 2. Use the Requests library to get the current price (in US dollars) of Bitcoin (BTC) and Ethereum (ETH) by using the API endpoints that the starter code supplied."
   ],
   "metadata": {}
  },
  {
   "cell_type": "code",
   "execution_count": 7,
   "source": [
    "# Using the Python requests library, make an API call to access the current price of BTC\r\n",
    "btc_response = requests.get(btc_url).json()\r\n",
    "\r\n",
    "# Use the json.dumps function to review the response data from the API call\r\n",
    "# Use the indent and sort_keys parameters to make the response object readable\r\n",
    "print(json.dumps(btc_response, indent=3, sort_keys=True))\r\n"
   ],
   "outputs": [
    {
     "output_type": "stream",
     "name": "stdout",
     "text": [
      "{\n",
      "   \"data\": {\n",
      "      \"1\": {\n",
      "         \"circulating_supply\": 18766756,\n",
      "         \"id\": 1,\n",
      "         \"last_updated\": 1627265991,\n",
      "         \"max_supply\": 21000000,\n",
      "         \"name\": \"Bitcoin\",\n",
      "         \"quotes\": {\n",
      "            \"USD\": {\n",
      "               \"market_cap\": 711307387553,\n",
      "               \"percent_change_1h\": -3.14141798641411,\n",
      "               \"percent_change_24h\": 11.3678478700154,\n",
      "               \"percent_change_7d\": 18.8488100567418,\n",
      "               \"percentage_change_1h\": -3.14141798641411,\n",
      "               \"percentage_change_24h\": 11.3678478700154,\n",
      "               \"percentage_change_7d\": 18.8488100567418,\n",
      "               \"price\": 37936.0,\n",
      "               \"volume_24h\": 32450356702\n",
      "            }\n",
      "         },\n",
      "         \"rank\": 1,\n",
      "         \"symbol\": \"BTC\",\n",
      "         \"total_supply\": 18766756,\n",
      "         \"website_slug\": \"bitcoin\"\n",
      "      }\n",
      "   },\n",
      "   \"metadata\": {\n",
      "      \"error\": null,\n",
      "      \"num_cryptocurrencies\": 3105,\n",
      "      \"timestamp\": 1627265991\n",
      "   }\n",
      "}\n"
     ]
    }
   ],
   "metadata": {}
  },
  {
   "cell_type": "code",
   "execution_count": 8,
   "source": [
    "# Using the Python requests library, make an API call to access the current price ETH\r\n",
    "eth_response = requests.get(eth_url).json()\r\n",
    "\r\n",
    "# Use the json.dumps function to review the response data from the API call\r\n",
    "# Use the indent and sort_keys parameters to make the response object readable\r\n",
    "print(json.dumps(eth_response, indent=3, sort_keys=True))\r\n"
   ],
   "outputs": [
    {
     "output_type": "stream",
     "name": "stdout",
     "text": [
      "{\n",
      "   \"data\": {\n",
      "      \"1027\": {\n",
      "         \"circulating_supply\": 116842965,\n",
      "         \"id\": 1027,\n",
      "         \"last_updated\": 1627265994,\n",
      "         \"max_supply\": 0,\n",
      "         \"name\": \"Ethereum\",\n",
      "         \"quotes\": {\n",
      "            \"USD\": {\n",
      "               \"market_cap\": 267826270791,\n",
      "               \"percent_change_1h\": -2.40218651836802,\n",
      "               \"percent_change_24h\": 6.43039517614427,\n",
      "               \"percent_change_7d\": 20.3745030388263,\n",
      "               \"percentage_change_1h\": -2.40218651836802,\n",
      "               \"percentage_change_24h\": 6.43039517614427,\n",
      "               \"percentage_change_7d\": 20.3745030388263,\n",
      "               \"price\": 2294.01,\n",
      "               \"volume_24h\": 21936978345\n",
      "            }\n",
      "         },\n",
      "         \"rank\": 2,\n",
      "         \"symbol\": \"ETH\",\n",
      "         \"total_supply\": 116842965,\n",
      "         \"website_slug\": \"ethereum\"\n",
      "      }\n",
      "   },\n",
      "   \"metadata\": {\n",
      "      \"error\": null,\n",
      "      \"num_cryptocurrencies\": 3105,\n",
      "      \"timestamp\": 1627265994\n",
      "   }\n",
      "}\n"
     ]
    }
   ],
   "metadata": {}
  },
  {
   "cell_type": "markdown",
   "source": [
    "#### Step 3: Navigate the JSON response object to access the current price of each coin, and store each in a variable."
   ],
   "metadata": {}
  },
  {
   "cell_type": "code",
   "execution_count": 9,
   "source": [
    "# Navigate the BTC response object to access the current price of BTC\r\n",
    "btc_price = btc_response[\"data\"][\"1\"][\"quotes\"][\"USD\"][\"price\"]\r\n",
    "\r\n",
    "# Print the current price of BTC\r\n",
    "print(f\"The current price of Bitcoin is ${btc_price}\")\r\n",
    "\r\n"
   ],
   "outputs": [
    {
     "output_type": "stream",
     "name": "stdout",
     "text": [
      "The current price of Bitcoin is $37936.0\n"
     ]
    }
   ],
   "metadata": {}
  },
  {
   "cell_type": "code",
   "execution_count": 10,
   "source": [
    "# Navigate the BTC response object to access the current price of ETH\r\n",
    "eth_price = eth_response[\"data\"][\"1027\"][\"quotes\"][\"USD\"][\"price\"]\r\n",
    "\r\n",
    "# Print the current price of ETH\r\n",
    "print(f\"The current price for Etherum is ${eth_price}\")\r\n"
   ],
   "outputs": [
    {
     "output_type": "stream",
     "name": "stdout",
     "text": [
      "The current price for Etherum is $2294.01\n"
     ]
    }
   ],
   "metadata": {}
  },
  {
   "cell_type": "markdown",
   "source": [
    "### Step 4: Calculate the value, in US dollars, of the current amount of each cryptocurrency and of the entire cryptocurrency wallet."
   ],
   "metadata": {}
  },
  {
   "cell_type": "code",
   "execution_count": 11,
   "source": [
    "# Compute the current value of the BTC holding \r\n",
    "btc_value = btc_price * btc_coins\r\n",
    "\r\n",
    "# Print current value of your holding in BTC\r\n",
    "print(f\"The total Value of your Bitcoin holding is ${btc_value}\")\r\n"
   ],
   "outputs": [
    {
     "output_type": "stream",
     "name": "stdout",
     "text": [
      "The total Value of your Bitcoin holding is $45523.2\n"
     ]
    }
   ],
   "metadata": {}
  },
  {
   "cell_type": "code",
   "execution_count": 12,
   "source": [
    "# Compute the current value of the ETH holding \r\n",
    "eth_value = eth_price * eth_coins\r\n",
    "\r\n",
    "# Print current value of your holding in ETH\r\n",
    "print(f\"The total Value of your Etherum holding is ${eth_value}\")\r\n"
   ],
   "outputs": [
    {
     "output_type": "stream",
     "name": "stdout",
     "text": [
      "The total Value of your Etherum holding is $12158.253\n"
     ]
    }
   ],
   "metadata": {}
  },
  {
   "cell_type": "code",
   "execution_count": 13,
   "source": [
    "# Compute the total value of the cryptocurrency wallet\r\n",
    "# Add the value of the BTC holding to the value of the ETH holding\r\n",
    "total_crypto_wallet = btc_value + eth_value\r\n",
    "\r\n",
    "# Print current cryptocurrency wallet balance\r\n",
    "print(f\"The total Value of your Cryptocurrency wallet is ${total_crypto_wallet}\")\r\n"
   ],
   "outputs": [
    {
     "output_type": "stream",
     "name": "stdout",
     "text": [
      "The total Value of your Cryptocurrency wallet is $57681.452999999994\n"
     ]
    }
   ],
   "metadata": {}
  },
  {
   "cell_type": "markdown",
   "source": [
    "### Evaluate the Stock and Bond Holdings by Using the Alpaca SDK\n",
    "\n",
    "In this section, you’ll determine the current value of a member’s stock and bond holdings. You’ll make an API call to Alpaca via the Alpaca SDK to get the current closing prices of the SPDR S&P 500 ETF Trust (ticker: SPY) and of the iShares Core US Aggregate Bond ETF (ticker: AGG). For the prototype, assume that the member holds 110 shares of SPY, which represents the stock portion of their portfolio, and 200 shares of AGG, which represents the bond portion. To do all this, complete the following steps:\n",
    "\n",
    "1. In the `Starter_Code` folder, create an environment file (`.env`) to store the values of your Alpaca API key and Alpaca secret key.\n",
    "\n",
    "2. Set the variables for the Alpaca API and secret keys. Using the Alpaca SDK, create the Alpaca `tradeapi.REST` object. In this object, include the parameters for the Alpaca API key, the secret key, and the version number.\n",
    "\n",
    "3. Set the following parameters for the Alpaca API call:\n",
    "\n",
    "    - `tickers`: Use the tickers for the member’s stock and bond holdings.\n",
    "\n",
    "    - `timeframe`: Use a time frame of one day.\n",
    "\n",
    "    - `start_date` and `end_date`: Use the same date for these parameters, and format them with the date of the previous weekday (or `2020-08-07`). This is because you want the one closing price for the most-recent trading day.\n",
    "\n",
    "4. Get the current closing prices for `SPY` and `AGG` by using the Alpaca `get_barset` function. Format the response as a Pandas DataFrame by including the `df` property at the end of the `get_barset` function.\n",
    "\n",
    "5. Navigating the Alpaca response DataFrame, select the `SPY` and `AGG` closing prices, and store them as variables.\n",
    "\n",
    "6. Calculate the value, in US dollars, of the current amount of shares in each of the stock and bond portions of the portfolio, and print the results.\n"
   ],
   "metadata": {}
  },
  {
   "cell_type": "markdown",
   "source": [
    "#### Review the total number of shares held in both (SPY) and (AGG)."
   ],
   "metadata": {}
  },
  {
   "cell_type": "code",
   "execution_count": 14,
   "source": [
    "# Current amount of shares held in both the stock (SPY) and bond (AGG) portion of the portfolio.\r\n",
    "spy_shares = 110\r\n",
    "agg_shares = 200\r\n"
   ],
   "outputs": [],
   "metadata": {}
  },
  {
   "cell_type": "markdown",
   "source": [
    "#### Step 1: In the `Starter_Code` folder, create an environment file (`.env`) to store the values of your Alpaca API key and Alpaca secret key."
   ],
   "metadata": {}
  },
  {
   "cell_type": "markdown",
   "source": [
    "#### Step 2: Set the variables for the Alpaca API and secret keys. Using the Alpaca SDK, create the Alpaca `tradeapi.REST` object. In this object, include the parameters for the Alpaca API key, the secret key, and the version number."
   ],
   "metadata": {}
  },
  {
   "cell_type": "code",
   "execution_count": 15,
   "source": [
    "# Set the variables for the Alpaca API and secret keys\r\n",
    "\r\n",
    "alpaca_api_key = os.getenv(\"ALPACA_API_KEY\")\r\n",
    "\r\n",
    "alpaca_secret_key = os.getenv(\"ALPACA_SECRET_KEY\")\r\n",
    "\r\n",
    "# Create the Alpaca tradeapi.REST object\r\n",
    "alpaca =  tradeapi.REST(\r\n",
    "    alpaca_api_key,\r\n",
    "    alpaca_secret_key,\r\n",
    "    api_version= \"v2\"\r\n",
    ")\r\n"
   ],
   "outputs": [],
   "metadata": {}
  },
  {
   "cell_type": "markdown",
   "source": [
    "#### Step 3: Set the following parameters for the Alpaca API call:\n",
    "\n",
    "- `tickers`: Use the tickers for the member’s stock and bond holdings.\n",
    "\n",
    "- `timeframe`: Use a time frame of one day.\n",
    "\n",
    "- `start_date` and `end_date`: Use the same date for these parameters, and format them with the date of the previous weekday (or `2020-08-07`). This is because you want the one closing price for the most-recent trading day.\n"
   ],
   "metadata": {}
  },
  {
   "cell_type": "code",
   "execution_count": 16,
   "source": [
    "# Set the tickers for both the bond and stock portion of the portfolio\r\n",
    "tickers = [\"SPY\", \"AGG\"] \r\n",
    "\r\n",
    "# Set timeframe to 1D \r\n",
    "timeframe = \"1D\"\r\n",
    "\r\n",
    "# Format current date as ISO format\r\n",
    "# Set both the start and end date at the date of your prior weekday \r\n",
    "# This will give you the closing price of the previous trading day\r\n",
    "# Alternatively you can use a start and end date of 2020-08-07\r\n",
    "start_date = pd.Timestamp(\"2021-07-19\", tz= \"America/New_York\").isoformat()\r\n",
    "end_date = pd.Timestamp(\"2021-07-19\", tz= \"America/New_York\").isoformat()\r\n",
    "\r\n"
   ],
   "outputs": [],
   "metadata": {}
  },
  {
   "cell_type": "markdown",
   "source": [
    "#### Step 4: Get the current closing prices for `SPY` and `AGG` by using the Alpaca `get_barset` function. Format the response as a Pandas DataFrame by including the `df` property at the end of the `get_barset` function."
   ],
   "metadata": {}
  },
  {
   "cell_type": "code",
   "execution_count": 17,
   "source": [
    "# Use the Alpaca get_barset function to get current closing prices the portfolio\r\n",
    "# Be sure to set the `df` property after the function to format the response object as a DataFrame\r\n",
    "closing_prices_df = alpaca.get_barset(\r\n",
    "    tickers,\r\n",
    "    timeframe,\r\n",
    "    start=start_date,\r\n",
    "    end=end_date\r\n",
    "    ).df\r\n",
    "\r\n",
    "# Review the first 5 rows of the Alpaca DataFrame\r\n",
    "closing_prices_df.head()\r\n"
   ],
   "outputs": [
    {
     "output_type": "execute_result",
     "data": {
      "text/plain": [
       "                              AGG                                        SPY  \\\n",
       "                             open      high     low   close   volume    open   \n",
       "time                                                                           \n",
       "2021-07-19 00:00:00-04:00  116.39  116.6085  116.35  116.52  6476334  426.19   \n",
       "\n",
       "                                                                \n",
       "                               high     low   close     volume  \n",
       "time                                                            \n",
       "2021-07-19 00:00:00-04:00  431.4089  421.97  424.97  127607115  "
      ],
      "text/html": [
       "<div>\n",
       "<style scoped>\n",
       "    .dataframe tbody tr th:only-of-type {\n",
       "        vertical-align: middle;\n",
       "    }\n",
       "\n",
       "    .dataframe tbody tr th {\n",
       "        vertical-align: top;\n",
       "    }\n",
       "\n",
       "    .dataframe thead tr th {\n",
       "        text-align: left;\n",
       "    }\n",
       "\n",
       "    .dataframe thead tr:last-of-type th {\n",
       "        text-align: right;\n",
       "    }\n",
       "</style>\n",
       "<table border=\"1\" class=\"dataframe\">\n",
       "  <thead>\n",
       "    <tr>\n",
       "      <th></th>\n",
       "      <th colspan=\"5\" halign=\"left\">AGG</th>\n",
       "      <th colspan=\"5\" halign=\"left\">SPY</th>\n",
       "    </tr>\n",
       "    <tr>\n",
       "      <th></th>\n",
       "      <th>open</th>\n",
       "      <th>high</th>\n",
       "      <th>low</th>\n",
       "      <th>close</th>\n",
       "      <th>volume</th>\n",
       "      <th>open</th>\n",
       "      <th>high</th>\n",
       "      <th>low</th>\n",
       "      <th>close</th>\n",
       "      <th>volume</th>\n",
       "    </tr>\n",
       "    <tr>\n",
       "      <th>time</th>\n",
       "      <th></th>\n",
       "      <th></th>\n",
       "      <th></th>\n",
       "      <th></th>\n",
       "      <th></th>\n",
       "      <th></th>\n",
       "      <th></th>\n",
       "      <th></th>\n",
       "      <th></th>\n",
       "      <th></th>\n",
       "    </tr>\n",
       "  </thead>\n",
       "  <tbody>\n",
       "    <tr>\n",
       "      <th>2021-07-19 00:00:00-04:00</th>\n",
       "      <td>116.39</td>\n",
       "      <td>116.6085</td>\n",
       "      <td>116.35</td>\n",
       "      <td>116.52</td>\n",
       "      <td>6476334</td>\n",
       "      <td>426.19</td>\n",
       "      <td>431.4089</td>\n",
       "      <td>421.97</td>\n",
       "      <td>424.97</td>\n",
       "      <td>127607115</td>\n",
       "    </tr>\n",
       "  </tbody>\n",
       "</table>\n",
       "</div>"
      ]
     },
     "metadata": {},
     "execution_count": 17
    }
   ],
   "metadata": {}
  },
  {
   "cell_type": "markdown",
   "source": [
    "#### Step 5: Navigating the Alpaca response DataFrame, select the `SPY` and `AGG` closing prices, and store them as variables."
   ],
   "metadata": {}
  },
  {
   "cell_type": "code",
   "execution_count": 18,
   "source": [
    "# Access the closing price for AGG from the Alpaca DataFrame\r\n",
    "# Converting the value to a floating point number\r\n",
    "agg_close_price = float(closing_prices_df [\"AGG\"][\"close\"])\r\n",
    "\r\n",
    "# Print the AGG closing price\r\n",
    "print(f\"The closing price of AGG is ${agg_close_price}\")\r\n"
   ],
   "outputs": [
    {
     "output_type": "stream",
     "name": "stdout",
     "text": [
      "The closing price of AGG is $116.52\n"
     ]
    }
   ],
   "metadata": {}
  },
  {
   "cell_type": "code",
   "execution_count": 19,
   "source": [
    "# Access the closing price for SPY from the Alpaca DataFrame\r\n",
    "# Converting the value to a floating point number\r\n",
    "spy_close_price = float(closing_prices_df[\"SPY\"][\"close\"])\r\n",
    "\r\n",
    "# Print the SPY closing price\r\n",
    "print(f\"The closinf price of SPY IS ${spy_close_price}\")\r\n"
   ],
   "outputs": [
    {
     "output_type": "stream",
     "name": "stdout",
     "text": [
      "The closinf price of SPY IS $424.97\n"
     ]
    }
   ],
   "metadata": {}
  },
  {
   "cell_type": "markdown",
   "source": [
    "#### Step 6: Calculate the value, in US dollars, of the current amount of shares in each of the stock and bond portions of the portfolio, and print the results."
   ],
   "metadata": {}
  },
  {
   "cell_type": "code",
   "execution_count": 20,
   "source": [
    "# Calculate the current value of the bond portion of the portfolio\r\n",
    "agg_value = agg_shares * agg_close_price\r\n",
    "\r\n",
    "# Print the current value of the bond portfolio\r\n",
    "print(f\"The current Value of AGG is ${agg_value:2f}\")\r\n"
   ],
   "outputs": [
    {
     "output_type": "stream",
     "name": "stdout",
     "text": [
      "The current Value of AGG is $23304.000000\n"
     ]
    }
   ],
   "metadata": {}
  },
  {
   "cell_type": "code",
   "execution_count": 21,
   "source": [
    "# Calculate the current value of the stock portion of the portfolio\r\n",
    "spy_value = spy_shares * spy_close_price\r\n",
    "\r\n",
    "# Print the current value of the stock portfolio\r\n",
    "print(f\"The current Value of SPY is ${spy_value:2f}\")\r\n"
   ],
   "outputs": [
    {
     "output_type": "stream",
     "name": "stdout",
     "text": [
      "The current Value of SPY is $46746.700000\n"
     ]
    }
   ],
   "metadata": {}
  },
  {
   "cell_type": "code",
   "execution_count": 23,
   "source": [
    "# Calculate the total value of the stock and bond portion of the portfolio\r\n",
    "total_stocks_bonds = spy_value + agg_value\r\n",
    "\r\n",
    "# Print the current balance of the stock and bond portion of the portfolio\r\n",
    "print(f\"The current Balance of the stock and Bond in your Portfolio is ${total_stocks_bonds:.2f}\")\r\n"
   ],
   "outputs": [
    {
     "output_type": "stream",
     "name": "stdout",
     "text": [
      "The current Balance of the stock and Bond in your Portfolio is $70050.70\n"
     ]
    }
   ],
   "metadata": {}
  },
  {
   "cell_type": "code",
   "execution_count": 24,
   "source": [
    "# Calculate the total value of the member's entire savings portfolio\r\n",
    "# Add the value of the cryptocurrency walled to the value of the total stocks and bonds\r\n",
    "total_portfolio = total_stocks_bonds + total_crypto_wallet\r\n",
    "\r\n",
    "# Print current cryptocurrency wallet balance\r\n",
    "print(f\"The total Value of the Portfolio is ${total_portfolio:.2f}\")\r\n"
   ],
   "outputs": [
    {
     "output_type": "stream",
     "name": "stdout",
     "text": [
      "The total Value of the Portfolio is $127732.15\n"
     ]
    }
   ],
   "metadata": {}
  },
  {
   "cell_type": "markdown",
   "source": [
    "### Evaluate the Emergency Fund\n",
    "\n",
    "In this section, you’ll use the valuations for the cryptocurrency wallet and for the stock and bond portions of the portfolio to determine if the credit union member has enough savings to build an emergency fund into their financial plan. To do this, complete the following steps:\n",
    "\n",
    "1. Create a Python list named `savings_data` that has two elements. The first element contains the total value of the cryptocurrency wallet. The second element contains the total value of the stock and bond portions of the portfolio.\n",
    "\n",
    "2. Use the `savings_data` list to create a Pandas DataFrame named `savings_df`, and then display this DataFrame. The function to create the DataFrame should take the following three parameters:\n",
    "\n",
    "    - `savings_data`: Use the list that you just created.\n",
    "\n",
    "    - `columns`: Set this parameter equal to a Python list with a single value called `amount`.\n",
    "\n",
    "    - `index`: Set this parameter equal to a Python list with the values of `crypto` and `stock/bond`.\n",
    "\n",
    "3. Use the `savings_df` DataFrame to plot a pie chart that visualizes the composition of the member’s portfolio. The y-axis of the pie chart uses `amount`. Be sure to add a title.\n",
    "\n",
    "4. Using Python, determine if the current portfolio has enough to create an emergency fund as part of the member’s financial plan. Ideally, an emergency fund should equal to three times the member’s monthly income. To do this, implement the following steps:\n",
    "\n",
    "    1. Create a variable named `emergency_fund_value`, and set it equal to three times the value of the member’s `monthly_income` of $12000. (You set this earlier in Part 1).\n",
    "\n",
    "    2. Create a series of three if statements to determine if the member’s total portfolio is large enough to fund the emergency portfolio:\n",
    "\n",
    "        1. If the total portfolio value is greater than the emergency fund value, display a message congratulating the member for having enough money in this fund.\n",
    "\n",
    "        2. Else if the total portfolio value is equal to the emergency fund value, display a message congratulating the member on reaching this important financial goal.\n",
    "\n",
    "        3. Else the total portfolio is less than the emergency fund value, so display a message showing how many dollars away the member is from reaching the goal. (Subtract the total portfolio value from the emergency fund value.)\n"
   ],
   "metadata": {}
  },
  {
   "cell_type": "markdown",
   "source": [
    "#### Step 1: Create a Python list named `savings_data` that has two elements. The first element contains the total value of the cryptocurrency wallet. The second element contains the total value of the stock and bond portions of the portfolio."
   ],
   "metadata": {}
  },
  {
   "cell_type": "code",
   "execution_count": 25,
   "source": [
    "# Consolidate financial assets data into a Python list\r\n",
    "savings_data = [total_crypto_wallet, total_stocks_bonds]\r\n",
    "\r\n",
    "# Review the Python list savings_data\r\n",
    "savings_data\r\n",
    "    "
   ],
   "outputs": [
    {
     "output_type": "execute_result",
     "data": {
      "text/plain": [
       "[57681.452999999994, 70050.70000000001]"
      ]
     },
     "metadata": {},
     "execution_count": 25
    }
   ],
   "metadata": {}
  },
  {
   "cell_type": "markdown",
   "source": [
    "#### Step 2: Use the `savings_data` list to create a Pandas DataFrame named `savings_df`, and then display this DataFrame. The function to create the DataFrame should take the following three parameters:\n",
    "\n",
    "- `savings_data`: Use the list that you just created.\n",
    "\n",
    "- `columns`: Set this parameter equal to a Python list with a single value called `amount`.\n",
    "\n",
    "- `index`: Set this parameter equal to a Python list with the values of `crypto` and `stock/bond`.\n"
   ],
   "metadata": {}
  },
  {
   "cell_type": "code",
   "execution_count": 28,
   "source": [
    "# Create a Pandas DataFrame called savings_df \r\n",
    "portfolio = [\"crypto\", \"stock/bond\"]\r\n",
    "\r\n",
    "saving_df = pd.DataFrame(\r\n",
    "    savings_data,\r\n",
    "    columns=[\"amount\"],\r\n",
    "    index=portfolio\r\n",
    ")\r\n",
    "\r\n",
    "# Display the savings_df DataFrame\r\n",
    "saving_df\r\n"
   ],
   "outputs": [
    {
     "output_type": "execute_result",
     "data": {
      "text/plain": [
       "               amount\n",
       "crypto      57681.453\n",
       "stock/bond  70050.700"
      ],
      "text/html": [
       "<div>\n",
       "<style scoped>\n",
       "    .dataframe tbody tr th:only-of-type {\n",
       "        vertical-align: middle;\n",
       "    }\n",
       "\n",
       "    .dataframe tbody tr th {\n",
       "        vertical-align: top;\n",
       "    }\n",
       "\n",
       "    .dataframe thead th {\n",
       "        text-align: right;\n",
       "    }\n",
       "</style>\n",
       "<table border=\"1\" class=\"dataframe\">\n",
       "  <thead>\n",
       "    <tr style=\"text-align: right;\">\n",
       "      <th></th>\n",
       "      <th>amount</th>\n",
       "    </tr>\n",
       "  </thead>\n",
       "  <tbody>\n",
       "    <tr>\n",
       "      <th>crypto</th>\n",
       "      <td>57681.453</td>\n",
       "    </tr>\n",
       "    <tr>\n",
       "      <th>stock/bond</th>\n",
       "      <td>70050.700</td>\n",
       "    </tr>\n",
       "  </tbody>\n",
       "</table>\n",
       "</div>"
      ]
     },
     "metadata": {},
     "execution_count": 28
    }
   ],
   "metadata": {}
  },
  {
   "cell_type": "markdown",
   "source": [
    "#### Step 3: Use the `savings_df` DataFrame to plot a pie chart that visualizes the composition of the member’s portfolio. The y-axis of the pie chart uses `amount`. Be sure to add a title."
   ],
   "metadata": {}
  },
  {
   "cell_type": "code",
   "execution_count": 29,
   "source": [
    "# Plot the total value of the member's portfolio (crypto and stock/bond) in a pie chart\r\n",
    "saving_df.plot.pie(title=\"Total Value of Member's Portfolio\", y=\"amount\")\r\n"
   ],
   "outputs": [
    {
     "output_type": "execute_result",
     "data": {
      "text/plain": [
       "<AxesSubplot:title={'center':\"Total Value of Member's Portfolio\"}, ylabel='amount'>"
      ]
     },
     "metadata": {},
     "execution_count": 29
    },
    {
     "output_type": "display_data",
     "data": {
      "text/plain": [
       "<Figure size 432x288 with 1 Axes>"
      ],
      "image/png": "[encoded data removed]"
     },
     "metadata": {}
    }
   ],
   "metadata": {}
  },
  {
   "cell_type": "markdown",
   "source": [
    "#### Step 4: Using Python, determine if the current portfolio has enough to create an emergency fund as part of the member’s financial plan. Ideally, an emergency fund should equal to three times the member’s monthly income. To do this, implement the following steps:\n",
    "\n",
    "Step 1. Create a variable named `emergency_fund_value`, and set it equal to three times the value of the member’s `monthly_income` of 12000. (You set this earlier in Part 1).\n",
    "\n",
    "Step 2. Create a series of three if statements to determine if the member’s total portfolio is large enough to fund the emergency portfolio:\n",
    "\n",
    "* If the total portfolio value is greater than the emergency fund value, display a message congratulating the member for having enough money in this fund.\n",
    "\n",
    "* Else if the total portfolio value is equal to the emergency fund value, display a message congratulating the member on reaching this important financial goal.\n",
    "\n",
    "* Else the total portfolio is less than the emergency fund value, so display a message showing how many dollars away the member is from reaching the goal. (Subtract the total portfolio value from the emergency fund value.)\n"
   ],
   "metadata": {}
  },
  {
   "cell_type": "markdown",
   "source": [
    "##### Step 4-1: Create a variable named `emergency_fund_value`, and set it equal to three times the value of the member’s `monthly_income` of 12000. (You set this earlier in Part 1)."
   ],
   "metadata": {}
  },
  {
   "cell_type": "code",
   "execution_count": 30,
   "source": [
    "# Create a variable named emergency_fund_value\r\n",
    "emergency_fund_value =3 * monthly_income\r\n"
   ],
   "outputs": [],
   "metadata": {}
  },
  {
   "cell_type": "markdown",
   "source": [
    "##### Step 4-2: Create a series of three if statements to determine if the member’s total portfolio is large enough to fund the emergency portfolio:\n",
    "\n",
    "* If the total portfolio value is greater than the emergency fund value, display a message congratulating the member for having enough money in this fund.\n",
    "\n",
    "* Else if the total portfolio value is equal to the emergency fund value, display a message congratulating the member on reaching this important financial goal.\n",
    "\n",
    "* Else the total portfolio is less than the emergency fund value, so display a message showing how many dollars away the member is from reaching the goal. (Subtract the total portfolio value from the emergency fund value.)"
   ],
   "metadata": {}
  },
  {
   "cell_type": "code",
   "execution_count": 31,
   "source": [
    "# Evaluate the possibility of creating an emergency fund with 3 conditions:\r\n",
    "if total_portfolio > emergency_fund_value:\r\n",
    "    print(f\"Congratulation! You have enough money in this Fund. \")\r\n",
    "elif total_portfolio == emergency_fund_value:\r\n",
    "    print(f\"Congratulations on reaching this important financial goal!\")\r\n",
    "\r\n"
   ],
   "outputs": [
    {
     "output_type": "stream",
     "name": "stdout",
     "text": [
      "Congratulation! You have enough money in this Fund. \n"
     ]
    }
   ],
   "metadata": {}
  },
  {
   "cell_type": "markdown",
   "source": [
    "## Part 2: Create a Financial Planner for Retirement"
   ],
   "metadata": {}
  },
  {
   "cell_type": "markdown",
   "source": [
    "### Create the Monte Carlo Simulation\n",
    "\n",
    "In this section, you’ll use the MCForecastTools library to create a Monte Carlo simulation for the member’s savings portfolio. To do this, complete the following steps:\n",
    "\n",
    "1. Make an API call via the Alpaca SDK to get 3 years of historical closing prices for a traditional 60/40 portfolio split: 60% stocks (SPY) and 40% bonds (AGG).\n",
    "\n",
    "2. Run a Monte Carlo simulation of 500 samples and 30 years for the 60/40 portfolio, and then plot the results.The following image shows the overlay line plot resulting from a simulation with these characteristics. However, because a random number generator is used to run each live Monte Carlo simulation, your image will differ slightly from this exact image:\n",
    "\n",
    "![A screenshot depicts the resulting plot.](Images/5-4-monte-carlo-line-plot.png)\n",
    "\n",
    "3. Plot the probability distribution of the Monte Carlo simulation. Plot the probability distribution of the Monte Carlo simulation. The following image shows the histogram plot resulting from a simulation with these characteristics. However, because a random number generator is used to run each live Monte Carlo simulation, your image will differ slightly from this exact image:\n",
    "\n",
    "![A screenshot depicts the histogram plot.](Images/5-4-monte-carlo-histogram.png)\n",
    "\n",
    "4. Generate the summary statistics for the Monte Carlo simulation.\n",
    "\n"
   ],
   "metadata": {}
  },
  {
   "cell_type": "markdown",
   "source": [
    "#### Step 1: Make an API call via the Alpaca SDK to get 3 years of historical closing prices for a traditional 60/40 portfolio split: 60% stocks (SPY) and 40% bonds (AGG)."
   ],
   "metadata": {}
  },
  {
   "cell_type": "code",
   "execution_count": 38,
   "source": [
    "# Set start and end dates of 3 years back from your current date\r\n",
    "# Alternatively, you can use an end date of 2020-08-07 and work 3 years back from that date \r\n",
    "start_date_3_yrs = pd.Timestamp(\"2020-08-07\", tz= \"America/New_York\").isoformat\r\n",
    "end_date_3_yrs = pd.Timestamp(\"2017-08-07\", tz= \"America/New_York\").isoformat\r\n",
    "\r\n",
    "\r\n",
    "# Set number of rows to 1000 to retrieve the maximum amount of rows\r\n",
    "limit_rows = 1000"
   ],
   "outputs": [],
   "metadata": {}
  },
  {
   "cell_type": "code",
   "execution_count": 39,
   "source": [
    "# Use the Alpaca get_barset function to make the API call to get the 3 years worth of pricing data\r\n",
    "# The tickers and timeframe parameters should have been set in Part 1 of this activity \r\n",
    "# The start and end dates should be updated with the information set above\r\n",
    "# Remember to add the df property to the end of the call so the response is returned as a DataFrame\r\n",
    "pricing_data_3_yrs_df = alpaca.get_barset(\r\n",
    "    tickers,\r\n",
    "    timeframe,\r\n",
    "    start = start_date_3_yrs,\r\n",
    "    end = end_date_3_yrs\r\n",
    "\r\n",
    ").df\r\n",
    "\r\n",
    "\r\n",
    "# Display both the first and last five rows of the DataFrame\r\n",
    "\r\n",
    "display(pricing_data_3_yrs_df.head())\r\n",
    "display(pricing_data_3_yrs_df.tail())\r\n"
   ],
   "outputs": [
    {
     "output_type": "display_data",
     "data": {
      "text/plain": [
       "                              AGG                                         SPY  \\\n",
       "                             open      high     low    close   volume    open   \n",
       "time                                                                            \n",
       "2021-03-03 00:00:00-05:00  114.80  114.8300  114.60  114.710  9720752  385.79   \n",
       "2021-03-04 00:00:00-05:00  114.79  114.8000  114.26  114.360  5239421  381.22   \n",
       "2021-03-05 00:00:00-05:00  114.17  114.3197  114.05  114.285  6190988  380.46   \n",
       "2021-03-08 00:00:00-05:00  114.20  114.2300  113.83  113.840  5213848  384.66   \n",
       "2021-03-09 00:00:00-05:00  114.20  114.3100  114.00  114.250  5074245  385.85   \n",
       "\n",
       "                                                                 \n",
       "                             high       low    close     volume  \n",
       "time                                                             \n",
       "2021-03-03 00:00:00-05:00  386.83  381.3100  381.450  105013641  \n",
       "2021-03-04 00:00:00-05:00  384.00  371.8800  376.730  168203161  \n",
       "2021-03-05 00:00:00-05:00  384.76  372.6400  383.595  133661539  \n",
       "2021-03-08 00:00:00-05:00  387.68  381.4200  381.740  107185328  \n",
       "2021-03-09 00:00:00-05:00  389.91  381.7299  387.110   97898909  "
      ],
      "text/html": [
       "<div>\n",
       "<style scoped>\n",
       "    .dataframe tbody tr th:only-of-type {\n",
       "        vertical-align: middle;\n",
       "    }\n",
       "\n",
       "    .dataframe tbody tr th {\n",
       "        vertical-align: top;\n",
       "    }\n",
       "\n",
       "    .dataframe thead tr th {\n",
       "        text-align: left;\n",
       "    }\n",
       "\n",
       "    .dataframe thead tr:last-of-type th {\n",
       "        text-align: right;\n",
       "    }\n",
       "</style>\n",
       "<table border=\"1\" class=\"dataframe\">\n",
       "  <thead>\n",
       "    <tr>\n",
       "      <th></th>\n",
       "      <th colspan=\"5\" halign=\"left\">AGG</th>\n",
       "      <th colspan=\"5\" halign=\"left\">SPY</th>\n",
       "    </tr>\n",
       "    <tr>\n",
       "      <th></th>\n",
       "      <th>open</th>\n",
       "      <th>high</th>\n",
       "      <th>low</th>\n",
       "      <th>close</th>\n",
       "      <th>volume</th>\n",
       "      <th>open</th>\n",
       "      <th>high</th>\n",
       "      <th>low</th>\n",
       "      <th>close</th>\n",
       "      <th>volume</th>\n",
       "    </tr>\n",
       "    <tr>\n",
       "      <th>time</th>\n",
       "      <th></th>\n",
       "      <th></th>\n",
       "      <th></th>\n",
       "      <th></th>\n",
       "      <th></th>\n",
       "      <th></th>\n",
       "      <th></th>\n",
       "      <th></th>\n",
       "      <th></th>\n",
       "      <th></th>\n",
       "    </tr>\n",
       "  </thead>\n",
       "  <tbody>\n",
       "    <tr>\n",
       "      <th>2021-03-03 00:00:00-05:00</th>\n",
       "      <td>114.80</td>\n",
       "      <td>114.8300</td>\n",
       "      <td>114.60</td>\n",
       "      <td>114.710</td>\n",
       "      <td>9720752</td>\n",
       "      <td>385.79</td>\n",
       "      <td>386.83</td>\n",
       "      <td>381.3100</td>\n",
       "      <td>381.450</td>\n",
       "      <td>105013641</td>\n",
       "    </tr>\n",
       "    <tr>\n",
       "      <th>2021-03-04 00:00:00-05:00</th>\n",
       "      <td>114.79</td>\n",
       "      <td>114.8000</td>\n",
       "      <td>114.26</td>\n",
       "      <td>114.360</td>\n",
       "      <td>5239421</td>\n",
       "      <td>381.22</td>\n",
       "      <td>384.00</td>\n",
       "      <td>371.8800</td>\n",
       "      <td>376.730</td>\n",
       "      <td>168203161</td>\n",
       "    </tr>\n",
       "    <tr>\n",
       "      <th>2021-03-05 00:00:00-05:00</th>\n",
       "      <td>114.17</td>\n",
       "      <td>114.3197</td>\n",
       "      <td>114.05</td>\n",
       "      <td>114.285</td>\n",
       "      <td>6190988</td>\n",
       "      <td>380.46</td>\n",
       "      <td>384.76</td>\n",
       "      <td>372.6400</td>\n",
       "      <td>383.595</td>\n",
       "      <td>133661539</td>\n",
       "    </tr>\n",
       "    <tr>\n",
       "      <th>2021-03-08 00:00:00-05:00</th>\n",
       "      <td>114.20</td>\n",
       "      <td>114.2300</td>\n",
       "      <td>113.83</td>\n",
       "      <td>113.840</td>\n",
       "      <td>5213848</td>\n",
       "      <td>384.66</td>\n",
       "      <td>387.68</td>\n",
       "      <td>381.4200</td>\n",
       "      <td>381.740</td>\n",
       "      <td>107185328</td>\n",
       "    </tr>\n",
       "    <tr>\n",
       "      <th>2021-03-09 00:00:00-05:00</th>\n",
       "      <td>114.20</td>\n",
       "      <td>114.3100</td>\n",
       "      <td>114.00</td>\n",
       "      <td>114.250</td>\n",
       "      <td>5074245</td>\n",
       "      <td>385.85</td>\n",
       "      <td>389.91</td>\n",
       "      <td>381.7299</td>\n",
       "      <td>387.110</td>\n",
       "      <td>97898909</td>\n",
       "    </tr>\n",
       "  </tbody>\n",
       "</table>\n",
       "</div>"
      ]
     },
     "metadata": {}
    },
    {
     "output_type": "display_data",
     "data": {
      "text/plain": [
       "                               AGG                                        SPY  \\\n",
       "                              open      high     low   close   volume    open   \n",
       "time                                                                            \n",
       "2021-07-19 00:00:00-04:00  116.390  116.6085  116.35  116.52  6476334  426.19   \n",
       "2021-07-20 00:00:00-04:00  116.780  116.8200  116.32  116.39  7229222  425.68   \n",
       "2021-07-21 00:00:00-04:00  116.075  116.1500  115.92  116.02  7773071  432.34   \n",
       "2021-07-22 00:00:00-04:00  116.030  116.3500  116.03  116.29  6269656  434.74   \n",
       "2021-07-23 00:00:00-04:00  116.030  116.2200  116.03  116.21  4137100  437.53   \n",
       "\n",
       "                                                                  \n",
       "                               high       low   close     volume  \n",
       "time                                                              \n",
       "2021-07-19 00:00:00-04:00  431.4089  421.9700  424.97  127607115  \n",
       "2021-07-20 00:00:00-04:00  432.4200  424.8300  431.04   87430308  \n",
       "2021-07-21 00:00:00-04:00  434.7000  431.0111  434.56   54251351  \n",
       "2021-07-22 00:00:00-04:00  435.7200  433.6900  435.50   41998182  \n",
       "2021-07-23 00:00:00-04:00  440.3000  436.7900  439.90   53294703  "
      ],
      "text/html": [
       "<div>\n",
       "<style scoped>\n",
       "    .dataframe tbody tr th:only-of-type {\n",
       "        vertical-align: middle;\n",
       "    }\n",
       "\n",
       "    .dataframe tbody tr th {\n",
       "        vertical-align: top;\n",
       "    }\n",
       "\n",
       "    .dataframe thead tr th {\n",
       "        text-align: left;\n",
       "    }\n",
       "\n",
       "    .dataframe thead tr:last-of-type th {\n",
       "        text-align: right;\n",
       "    }\n",
       "</style>\n",
       "<table border=\"1\" class=\"dataframe\">\n",
       "  <thead>\n",
       "    <tr>\n",
       "      <th></th>\n",
       "      <th colspan=\"5\" halign=\"left\">AGG</th>\n",
       "      <th colspan=\"5\" halign=\"left\">SPY</th>\n",
       "    </tr>\n",
       "    <tr>\n",
       "      <th></th>\n",
       "      <th>open</th>\n",
       "      <th>high</th>\n",
       "      <th>low</th>\n",
       "      <th>close</th>\n",
       "      <th>volume</th>\n",
       "      <th>open</th>\n",
       "      <th>high</th>\n",
       "      <th>low</th>\n",
       "      <th>close</th>\n",
       "      <th>volume</th>\n",
       "    </tr>\n",
       "    <tr>\n",
       "      <th>time</th>\n",
       "      <th></th>\n",
       "      <th></th>\n",
       "      <th></th>\n",
       "      <th></th>\n",
       "      <th></th>\n",
       "      <th></th>\n",
       "      <th></th>\n",
       "      <th></th>\n",
       "      <th></th>\n",
       "      <th></th>\n",
       "    </tr>\n",
       "  </thead>\n",
       "  <tbody>\n",
       "    <tr>\n",
       "      <th>2021-07-19 00:00:00-04:00</th>\n",
       "      <td>116.390</td>\n",
       "      <td>116.6085</td>\n",
       "      <td>116.35</td>\n",
       "      <td>116.52</td>\n",
       "      <td>6476334</td>\n",
       "      <td>426.19</td>\n",
       "      <td>431.4089</td>\n",
       "      <td>421.9700</td>\n",
       "      <td>424.97</td>\n",
       "      <td>127607115</td>\n",
       "    </tr>\n",
       "    <tr>\n",
       "      <th>2021-07-20 00:00:00-04:00</th>\n",
       "      <td>116.780</td>\n",
       "      <td>116.8200</td>\n",
       "      <td>116.32</td>\n",
       "      <td>116.39</td>\n",
       "      <td>7229222</td>\n",
       "      <td>425.68</td>\n",
       "      <td>432.4200</td>\n",
       "      <td>424.8300</td>\n",
       "      <td>431.04</td>\n",
       "      <td>87430308</td>\n",
       "    </tr>\n",
       "    <tr>\n",
       "      <th>2021-07-21 00:00:00-04:00</th>\n",
       "      <td>116.075</td>\n",
       "      <td>116.1500</td>\n",
       "      <td>115.92</td>\n",
       "      <td>116.02</td>\n",
       "      <td>7773071</td>\n",
       "      <td>432.34</td>\n",
       "      <td>434.7000</td>\n",
       "      <td>431.0111</td>\n",
       "      <td>434.56</td>\n",
       "      <td>54251351</td>\n",
       "    </tr>\n",
       "    <tr>\n",
       "      <th>2021-07-22 00:00:00-04:00</th>\n",
       "      <td>116.030</td>\n",
       "      <td>116.3500</td>\n",
       "      <td>116.03</td>\n",
       "      <td>116.29</td>\n",
       "      <td>6269656</td>\n",
       "      <td>434.74</td>\n",
       "      <td>435.7200</td>\n",
       "      <td>433.6900</td>\n",
       "      <td>435.50</td>\n",
       "      <td>41998182</td>\n",
       "    </tr>\n",
       "    <tr>\n",
       "      <th>2021-07-23 00:00:00-04:00</th>\n",
       "      <td>116.030</td>\n",
       "      <td>116.2200</td>\n",
       "      <td>116.03</td>\n",
       "      <td>116.21</td>\n",
       "      <td>4137100</td>\n",
       "      <td>437.53</td>\n",
       "      <td>440.3000</td>\n",
       "      <td>436.7900</td>\n",
       "      <td>439.90</td>\n",
       "      <td>53294703</td>\n",
       "    </tr>\n",
       "  </tbody>\n",
       "</table>\n",
       "</div>"
      ]
     },
     "metadata": {}
    }
   ],
   "metadata": {}
  },
  {
   "cell_type": "markdown",
   "source": [
    "#### Step 2: Run a Monte Carlo simulation of 500 samples and 30 years for the 60/40 portfolio, and then plot the results."
   ],
   "metadata": {}
  },
  {
   "cell_type": "code",
   "execution_count": 44,
   "source": [
    "# Configure the Monte Carlo simulation to forecast 30 years cumulative returns\r\n",
    "# The weights should be split 40% to AGG and 60% to SPY.\r\n",
    "# Run 500 samples.\r\n",
    "monte_carlo_30_yrs = MCSimulation(\r\n",
    "    portfolio_data=pricing_data_3_yrs_df,\r\n",
    "    weights=[.40,.60],\r\n",
    "    num_simulation=500,\r\n",
    "    num_trading_days=252*30\r\n",
    ")\r\n",
    "\r\n",
    "# Review the simulation input data\r\n",
    "monte_carlo_30_yrs.portfolio_data.head()\r\n"
   ],
   "outputs": [
    {
     "output_type": "execute_result",
     "data": {
      "text/plain": [
       "                              AGG                                      \\\n",
       "                             open      high     low    close   volume   \n",
       "time                                                                    \n",
       "2021-03-03 00:00:00-05:00  114.80  114.8300  114.60  114.710  9720752   \n",
       "2021-03-04 00:00:00-05:00  114.79  114.8000  114.26  114.360  5239421   \n",
       "2021-03-05 00:00:00-05:00  114.17  114.3197  114.05  114.285  6190988   \n",
       "2021-03-08 00:00:00-05:00  114.20  114.2300  113.83  113.840  5213848   \n",
       "2021-03-09 00:00:00-05:00  114.20  114.3100  114.00  114.250  5074245   \n",
       "\n",
       "                                           SPY                             \\\n",
       "                          daily_return    open    high       low    close   \n",
       "time                                                                        \n",
       "2021-03-03 00:00:00-05:00          NaN  385.79  386.83  381.3100  381.450   \n",
       "2021-03-04 00:00:00-05:00    -0.003051  381.22  384.00  371.8800  376.730   \n",
       "2021-03-05 00:00:00-05:00    -0.000656  380.46  384.76  372.6400  383.595   \n",
       "2021-03-08 00:00:00-05:00    -0.003894  384.66  387.68  381.4200  381.740   \n",
       "2021-03-09 00:00:00-05:00     0.003602  385.85  389.91  381.7299  387.110   \n",
       "\n",
       "                                                   \n",
       "                              volume daily_return  \n",
       "time                                               \n",
       "2021-03-03 00:00:00-05:00  105013641          NaN  \n",
       "2021-03-04 00:00:00-05:00  168203161    -0.012374  \n",
       "2021-03-05 00:00:00-05:00  133661539     0.018223  \n",
       "2021-03-08 00:00:00-05:00  107185328    -0.004836  \n",
       "2021-03-09 00:00:00-05:00   97898909     0.014067  "
      ],
      "text/html": [
       "<div>\n",
       "<style scoped>\n",
       "    .dataframe tbody tr th:only-of-type {\n",
       "        vertical-align: middle;\n",
       "    }\n",
       "\n",
       "    .dataframe tbody tr th {\n",
       "        vertical-align: top;\n",
       "    }\n",
       "\n",
       "    .dataframe thead tr th {\n",
       "        text-align: left;\n",
       "    }\n",
       "\n",
       "    .dataframe thead tr:last-of-type th {\n",
       "        text-align: right;\n",
       "    }\n",
       "</style>\n",
       "<table border=\"1\" class=\"dataframe\">\n",
       "  <thead>\n",
       "    <tr>\n",
       "      <th></th>\n",
       "      <th colspan=\"6\" halign=\"left\">AGG</th>\n",
       "      <th colspan=\"6\" halign=\"left\">SPY</th>\n",
       "    </tr>\n",
       "    <tr>\n",
       "      <th></th>\n",
       "      <th>open</th>\n",
       "      <th>high</th>\n",
       "      <th>low</th>\n",
       "      <th>close</th>\n",
       "      <th>volume</th>\n",
       "      <th>daily_return</th>\n",
       "      <th>open</th>\n",
       "      <th>high</th>\n",
       "      <th>low</th>\n",
       "      <th>close</th>\n",
       "      <th>volume</th>\n",
       "      <th>daily_return</th>\n",
       "    </tr>\n",
       "    <tr>\n",
       "      <th>time</th>\n",
       "      <th></th>\n",
       "      <th></th>\n",
       "      <th></th>\n",
       "      <th></th>\n",
       "      <th></th>\n",
       "      <th></th>\n",
       "      <th></th>\n",
       "      <th></th>\n",
       "      <th></th>\n",
       "      <th></th>\n",
       "      <th></th>\n",
       "      <th></th>\n",
       "    </tr>\n",
       "  </thead>\n",
       "  <tbody>\n",
       "    <tr>\n",
       "      <th>2021-03-03 00:00:00-05:00</th>\n",
       "      <td>114.80</td>\n",
       "      <td>114.8300</td>\n",
       "      <td>114.60</td>\n",
       "      <td>114.710</td>\n",
       "      <td>9720752</td>\n",
       "      <td>NaN</td>\n",
       "      <td>385.79</td>\n",
       "      <td>386.83</td>\n",
       "      <td>381.3100</td>\n",
       "      <td>381.450</td>\n",
       "      <td>105013641</td>\n",
       "      <td>NaN</td>\n",
       "    </tr>\n",
       "    <tr>\n",
       "      <th>2021-03-04 00:00:00-05:00</th>\n",
       "      <td>114.79</td>\n",
       "      <td>114.8000</td>\n",
       "      <td>114.26</td>\n",
       "      <td>114.360</td>\n",
       "      <td>5239421</td>\n",
       "      <td>-0.003051</td>\n",
       "      <td>381.22</td>\n",
       "      <td>384.00</td>\n",
       "      <td>371.8800</td>\n",
       "      <td>376.730</td>\n",
       "      <td>168203161</td>\n",
       "      <td>-0.012374</td>\n",
       "    </tr>\n",
       "    <tr>\n",
       "      <th>2021-03-05 00:00:00-05:00</th>\n",
       "      <td>114.17</td>\n",
       "      <td>114.3197</td>\n",
       "      <td>114.05</td>\n",
       "      <td>114.285</td>\n",
       "      <td>6190988</td>\n",
       "      <td>-0.000656</td>\n",
       "      <td>380.46</td>\n",
       "      <td>384.76</td>\n",
       "      <td>372.6400</td>\n",
       "      <td>383.595</td>\n",
       "      <td>133661539</td>\n",
       "      <td>0.018223</td>\n",
       "    </tr>\n",
       "    <tr>\n",
       "      <th>2021-03-08 00:00:00-05:00</th>\n",
       "      <td>114.20</td>\n",
       "      <td>114.2300</td>\n",
       "      <td>113.83</td>\n",
       "      <td>113.840</td>\n",
       "      <td>5213848</td>\n",
       "      <td>-0.003894</td>\n",
       "      <td>384.66</td>\n",
       "      <td>387.68</td>\n",
       "      <td>381.4200</td>\n",
       "      <td>381.740</td>\n",
       "      <td>107185328</td>\n",
       "      <td>-0.004836</td>\n",
       "    </tr>\n",
       "    <tr>\n",
       "      <th>2021-03-09 00:00:00-05:00</th>\n",
       "      <td>114.20</td>\n",
       "      <td>114.3100</td>\n",
       "      <td>114.00</td>\n",
       "      <td>114.250</td>\n",
       "      <td>5074245</td>\n",
       "      <td>0.003602</td>\n",
       "      <td>385.85</td>\n",
       "      <td>389.91</td>\n",
       "      <td>381.7299</td>\n",
       "      <td>387.110</td>\n",
       "      <td>97898909</td>\n",
       "      <td>0.014067</td>\n",
       "    </tr>\n",
       "  </tbody>\n",
       "</table>\n",
       "</div>"
      ]
     },
     "metadata": {},
     "execution_count": 44
    }
   ],
   "metadata": {}
  },
  {
   "cell_type": "code",
   "execution_count": 45,
   "source": [
    "# Run the Monte Carlo simulation to forecast 30 years cumulative returns\r\n",
    "monte_carlo_30_yrs.calc_cumulative_return()\r\n"
   ],
   "outputs": [
    {
     "output_type": "stream",
     "name": "stdout",
     "text": [
      "Running Monte Carlo simulation number 0.\n",
      "Running Monte Carlo simulation number 10.\n",
      "Running Monte Carlo simulation number 20.\n",
      "Running Monte Carlo simulation number 30.\n",
      "Running Monte Carlo simulation number 40.\n",
      "Running Monte Carlo simulation number 50.\n",
      "Running Monte Carlo simulation number 60.\n",
      "Running Monte Carlo simulation number 70.\n",
      "Running Monte Carlo simulation number 80.\n",
      "Running Monte Carlo simulation number 90.\n",
      "Running Monte Carlo simulation number 100.\n",
      "Running Monte Carlo simulation number 110.\n",
      "Running Monte Carlo simulation number 120.\n",
      "Running Monte Carlo simulation number 130.\n",
      "Running Monte Carlo simulation number 140.\n",
      "Running Monte Carlo simulation number 150.\n",
      "Running Monte Carlo simulation number 160.\n",
      "Running Monte Carlo simulation number 170.\n",
      "Running Monte Carlo simulation number 180.\n",
      "Running Monte Carlo simulation number 190.\n",
      "Running Monte Carlo simulation number 200.\n",
      "Running Monte Carlo simulation number 210.\n",
      "Running Monte Carlo simulation number 220.\n",
      "Running Monte Carlo simulation number 230.\n",
      "Running Monte Carlo simulation number 240.\n",
      "Running Monte Carlo simulation number 250.\n",
      "Running Monte Carlo simulation number 260.\n",
      "Running Monte Carlo simulation number 270.\n",
      "Running Monte Carlo simulation number 280.\n",
      "Running Monte Carlo simulation number 290.\n",
      "Running Monte Carlo simulation number 300.\n",
      "Running Monte Carlo simulation number 310.\n",
      "Running Monte Carlo simulation number 320.\n",
      "Running Monte Carlo simulation number 330.\n",
      "Running Monte Carlo simulation number 340.\n",
      "Running Monte Carlo simulation number 350.\n",
      "Running Monte Carlo simulation number 360.\n",
      "Running Monte Carlo simulation number 370.\n",
      "Running Monte Carlo simulation number 380.\n",
      "Running Monte Carlo simulation number 390.\n",
      "Running Monte Carlo simulation number 400.\n",
      "Running Monte Carlo simulation number 410.\n",
      "Running Monte Carlo simulation number 420.\n",
      "Running Monte Carlo simulation number 430.\n",
      "Running Monte Carlo simulation number 440.\n",
      "Running Monte Carlo simulation number 450.\n",
      "Running Monte Carlo simulation number 460.\n",
      "Running Monte Carlo simulation number 470.\n",
      "Running Monte Carlo simulation number 480.\n",
      "Running Monte Carlo simulation number 490.\n"
     ]
    },
    {
     "output_type": "execute_result",
     "data": {
      "text/plain": [
       "             0           1            2            3           4    \\\n",
       "0       1.000000    1.000000     1.000000     1.000000    1.000000   \n",
       "1       0.993519    0.999717     0.999366     1.002059    1.003500   \n",
       "2       0.996064    1.002206     1.002478     1.004568    0.998267   \n",
       "3       0.999289    1.001330     1.001629     0.997709    0.993653   \n",
       "4       1.007809    0.997582     1.001715     1.002656    0.986622   \n",
       "...          ...         ...          ...          ...         ...   \n",
       "7556  588.992654  811.543392  1326.342577  1419.873522  686.166509   \n",
       "7557  588.763442  818.164721  1340.041538  1409.698679  686.482663   \n",
       "7558  588.441569  812.867039  1347.483381  1412.618894  684.314910   \n",
       "7559  591.446004  816.467652  1348.602198  1412.269229  684.164197   \n",
       "7560  588.820079  812.288673  1355.432613  1413.629251  687.056754   \n",
       "\n",
       "             5            6            7           8            9    ...  \\\n",
       "0       1.000000     1.000000     1.000000    1.000000     1.000000  ...   \n",
       "1       0.999143     0.997999     0.998446    1.003141     1.003101  ...   \n",
       "2       1.000678     0.998308     1.005021    0.999899     1.006276  ...   \n",
       "3       0.999881     0.999160     0.998570    0.994133     1.013584  ...   \n",
       "4       1.004080     1.006215     0.999498    0.996490     1.016473  ...   \n",
       "...          ...          ...          ...         ...          ...  ...   \n",
       "7556  727.104535  1251.567800  1475.630319  598.074033  1527.958270  ...   \n",
       "7557  725.175510  1256.477558  1479.544720  600.736966  1532.309700  ...   \n",
       "7558  725.473705  1255.750135  1477.252620  598.921903  1539.383178  ...   \n",
       "7559  718.520896  1247.127038  1493.657719  599.645680  1537.180545  ...   \n",
       "7560  721.611860  1238.936632  1486.369078  597.346097  1543.880087  ...   \n",
       "\n",
       "              490          491          492         493          494  \\\n",
       "0        1.000000     1.000000     1.000000    1.000000     1.000000   \n",
       "1        0.993597     0.997825     0.999637    1.002201     0.992756   \n",
       "2        0.992303     0.995753     1.000149    1.002954     0.993066   \n",
       "3        0.997004     0.992815     0.999075    1.002427     0.996472   \n",
       "4        1.006305     0.996377     1.006387    1.005048     0.999033   \n",
       "...           ...          ...          ...         ...          ...   \n",
       "7556  1387.553713  1240.567576  1080.436788  837.401578  1619.796734   \n",
       "7557  1388.090968  1238.868055  1082.512114  834.931607  1621.077854   \n",
       "7558  1390.195557  1239.124594  1081.307924  836.443168  1637.695978   \n",
       "7559  1394.892220  1235.679003  1079.798828  840.897715  1635.961432   \n",
       "7560  1400.885955  1244.455601  1079.304005  843.551863  1645.856750   \n",
       "\n",
       "              495          496          497          498         499  \n",
       "0        1.000000     1.000000     1.000000     1.000000    1.000000  \n",
       "1        1.002934     1.004625     1.008079     1.002629    0.994918  \n",
       "2        0.998546     1.000406     1.011957     1.002652    0.996424  \n",
       "3        0.992794     1.001862     1.014513     1.005835    0.990024  \n",
       "4        0.992405     1.006691     1.004127     1.002413    0.991532  \n",
       "...           ...          ...          ...          ...         ...  \n",
       "7556  1307.277995  1231.670022  1539.520168  1183.856898  581.253306  \n",
       "7557  1304.199523  1222.044908  1546.548661  1183.566199  581.835166  \n",
       "7558  1301.858171  1222.766463  1556.614427  1180.054414  586.617050  \n",
       "7559  1298.049765  1220.299229  1554.809872  1180.521719  581.185073  \n",
       "7560  1296.419515  1226.040414  1565.244444  1184.467360  579.826909  \n",
       "\n",
       "[7561 rows x 500 columns]"
      ],
      "text/html": [
       "<div>\n",
       "<style scoped>\n",
       "    .dataframe tbody tr th:only-of-type {\n",
       "        vertical-align: middle;\n",
       "    }\n",
       "\n",
       "    .dataframe tbody tr th {\n",
       "        vertical-align: top;\n",
       "    }\n",
       "\n",
       "    .dataframe thead th {\n",
       "        text-align: right;\n",
       "    }\n",
       "</style>\n",
       "<table border=\"1\" class=\"dataframe\">\n",
       "  <thead>\n",
       "    <tr style=\"text-align: right;\">\n",
       "      <th></th>\n",
       "      <th>0</th>\n",
       "      <th>1</th>\n",
       "      <th>2</th>\n",
       "      <th>3</th>\n",
       "      <th>4</th>\n",
       "      <th>5</th>\n",
       "      <th>6</th>\n",
       "      <th>7</th>\n",
       "      <th>8</th>\n",
       "      <th>9</th>\n",
       "      <th>...</th>\n",
       "      <th>490</th>\n",
       "      <th>491</th>\n",
       "      <th>492</th>\n",
       "      <th>493</th>\n",
       "      <th>494</th>\n",
       "      <th>495</th>\n",
       "      <th>496</th>\n",
       "      <th>497</th>\n",
       "      <th>498</th>\n",
       "      <th>499</th>\n",
       "    </tr>\n",
       "  </thead>\n",
       "  <tbody>\n",
       "    <tr>\n",
       "      <th>0</th>\n",
       "      <td>1.000000</td>\n",
       "      <td>1.000000</td>\n",
       "      <td>1.000000</td>\n",
       "      <td>1.000000</td>\n",
       "      <td>1.000000</td>\n",
       "      <td>1.000000</td>\n",
       "      <td>1.000000</td>\n",
       "      <td>1.000000</td>\n",
       "      <td>1.000000</td>\n",
       "      <td>1.000000</td>\n",
       "      <td>...</td>\n",
       "      <td>1.000000</td>\n",
       "      <td>1.000000</td>\n",
       "      <td>1.000000</td>\n",
       "      <td>1.000000</td>\n",
       "      <td>1.000000</td>\n",
       "      <td>1.000000</td>\n",
       "      <td>1.000000</td>\n",
       "      <td>1.000000</td>\n",
       "      <td>1.000000</td>\n",
       "      <td>1.000000</td>\n",
       "    </tr>\n",
       "    <tr>\n",
       "      <th>1</th>\n",
       "      <td>0.993519</td>\n",
       "      <td>0.999717</td>\n",
       "      <td>0.999366</td>\n",
       "      <td>1.002059</td>\n",
       "      <td>1.003500</td>\n",
       "      <td>0.999143</td>\n",
       "      <td>0.997999</td>\n",
       "      <td>0.998446</td>\n",
       "      <td>1.003141</td>\n",
       "      <td>1.003101</td>\n",
       "      <td>...</td>\n",
       "      <td>0.993597</td>\n",
       "      <td>0.997825</td>\n",
       "      <td>0.999637</td>\n",
       "      <td>1.002201</td>\n",
       "      <td>0.992756</td>\n",
       "      <td>1.002934</td>\n",
       "      <td>1.004625</td>\n",
       "      <td>1.008079</td>\n",
       "      <td>1.002629</td>\n",
       "      <td>0.994918</td>\n",
       "    </tr>\n",
       "    <tr>\n",
       "      <th>2</th>\n",
       "      <td>0.996064</td>\n",
       "      <td>1.002206</td>\n",
       "      <td>1.002478</td>\n",
       "      <td>1.004568</td>\n",
       "      <td>0.998267</td>\n",
       "      <td>1.000678</td>\n",
       "      <td>0.998308</td>\n",
       "      <td>1.005021</td>\n",
       "      <td>0.999899</td>\n",
       "      <td>1.006276</td>\n",
       "      <td>...</td>\n",
       "      <td>0.992303</td>\n",
       "      <td>0.995753</td>\n",
       "      <td>1.000149</td>\n",
       "      <td>1.002954</td>\n",
       "      <td>0.993066</td>\n",
       "      <td>0.998546</td>\n",
       "      <td>1.000406</td>\n",
       "      <td>1.011957</td>\n",
       "      <td>1.002652</td>\n",
       "      <td>0.996424</td>\n",
       "    </tr>\n",
       "    <tr>\n",
       "      <th>3</th>\n",
       "      <td>0.999289</td>\n",
       "      <td>1.001330</td>\n",
       "      <td>1.001629</td>\n",
       "      <td>0.997709</td>\n",
       "      <td>0.993653</td>\n",
       "      <td>0.999881</td>\n",
       "      <td>0.999160</td>\n",
       "      <td>0.998570</td>\n",
       "      <td>0.994133</td>\n",
       "      <td>1.013584</td>\n",
       "      <td>...</td>\n",
       "      <td>0.997004</td>\n",
       "      <td>0.992815</td>\n",
       "      <td>0.999075</td>\n",
       "      <td>1.002427</td>\n",
       "      <td>0.996472</td>\n",
       "      <td>0.992794</td>\n",
       "      <td>1.001862</td>\n",
       "      <td>1.014513</td>\n",
       "      <td>1.005835</td>\n",
       "      <td>0.990024</td>\n",
       "    </tr>\n",
       "    <tr>\n",
       "      <th>4</th>\n",
       "      <td>1.007809</td>\n",
       "      <td>0.997582</td>\n",
       "      <td>1.001715</td>\n",
       "      <td>1.002656</td>\n",
       "      <td>0.986622</td>\n",
       "      <td>1.004080</td>\n",
       "      <td>1.006215</td>\n",
       "      <td>0.999498</td>\n",
       "      <td>0.996490</td>\n",
       "      <td>1.016473</td>\n",
       "      <td>...</td>\n",
       "      <td>1.006305</td>\n",
       "      <td>0.996377</td>\n",
       "      <td>1.006387</td>\n",
       "      <td>1.005048</td>\n",
       "      <td>0.999033</td>\n",
       "      <td>0.992405</td>\n",
       "      <td>1.006691</td>\n",
       "      <td>1.004127</td>\n",
       "      <td>1.002413</td>\n",
       "      <td>0.991532</td>\n",
       "    </tr>\n",
       "    <tr>\n",
       "      <th>...</th>\n",
       "      <td>...</td>\n",
       "      <td>...</td>\n",
       "      <td>...</td>\n",
       "      <td>...</td>\n",
       "      <td>...</td>\n",
       "      <td>...</td>\n",
       "      <td>...</td>\n",
       "      <td>...</td>\n",
       "      <td>...</td>\n",
       "      <td>...</td>\n",
       "      <td>...</td>\n",
       "      <td>...</td>\n",
       "      <td>...</td>\n",
       "      <td>...</td>\n",
       "      <td>...</td>\n",
       "      <td>...</td>\n",
       "      <td>...</td>\n",
       "      <td>...</td>\n",
       "      <td>...</td>\n",
       "      <td>...</td>\n",
       "      <td>...</td>\n",
       "    </tr>\n",
       "    <tr>\n",
       "      <th>7556</th>\n",
       "      <td>588.992654</td>\n",
       "      <td>811.543392</td>\n",
       "      <td>1326.342577</td>\n",
       "      <td>1419.873522</td>\n",
       "      <td>686.166509</td>\n",
       "      <td>727.104535</td>\n",
       "      <td>1251.567800</td>\n",
       "      <td>1475.630319</td>\n",
       "      <td>598.074033</td>\n",
       "      <td>1527.958270</td>\n",
       "      <td>...</td>\n",
       "      <td>1387.553713</td>\n",
       "      <td>1240.567576</td>\n",
       "      <td>1080.436788</td>\n",
       "      <td>837.401578</td>\n",
       "      <td>1619.796734</td>\n",
       "      <td>1307.277995</td>\n",
       "      <td>1231.670022</td>\n",
       "      <td>1539.520168</td>\n",
       "      <td>1183.856898</td>\n",
       "      <td>581.253306</td>\n",
       "    </tr>\n",
       "    <tr>\n",
       "      <th>7557</th>\n",
       "      <td>588.763442</td>\n",
       "      <td>818.164721</td>\n",
       "      <td>1340.041538</td>\n",
       "      <td>1409.698679</td>\n",
       "      <td>686.482663</td>\n",
       "      <td>725.175510</td>\n",
       "      <td>1256.477558</td>\n",
       "      <td>1479.544720</td>\n",
       "      <td>600.736966</td>\n",
       "      <td>1532.309700</td>\n",
       "      <td>...</td>\n",
       "      <td>1388.090968</td>\n",
       "      <td>1238.868055</td>\n",
       "      <td>1082.512114</td>\n",
       "      <td>834.931607</td>\n",
       "      <td>1621.077854</td>\n",
       "      <td>1304.199523</td>\n",
       "      <td>1222.044908</td>\n",
       "      <td>1546.548661</td>\n",
       "      <td>1183.566199</td>\n",
       "      <td>581.835166</td>\n",
       "    </tr>\n",
       "    <tr>\n",
       "      <th>7558</th>\n",
       "      <td>588.441569</td>\n",
       "      <td>812.867039</td>\n",
       "      <td>1347.483381</td>\n",
       "      <td>1412.618894</td>\n",
       "      <td>684.314910</td>\n",
       "      <td>725.473705</td>\n",
       "      <td>1255.750135</td>\n",
       "      <td>1477.252620</td>\n",
       "      <td>598.921903</td>\n",
       "      <td>1539.383178</td>\n",
       "      <td>...</td>\n",
       "      <td>1390.195557</td>\n",
       "      <td>1239.124594</td>\n",
       "      <td>1081.307924</td>\n",
       "      <td>836.443168</td>\n",
       "      <td>1637.695978</td>\n",
       "      <td>1301.858171</td>\n",
       "      <td>1222.766463</td>\n",
       "      <td>1556.614427</td>\n",
       "      <td>1180.054414</td>\n",
       "      <td>586.617050</td>\n",
       "    </tr>\n",
       "    <tr>\n",
       "      <th>7559</th>\n",
       "      <td>591.446004</td>\n",
       "      <td>816.467652</td>\n",
       "      <td>1348.602198</td>\n",
       "      <td>1412.269229</td>\n",
       "      <td>684.164197</td>\n",
       "      <td>718.520896</td>\n",
       "      <td>1247.127038</td>\n",
       "      <td>1493.657719</td>\n",
       "      <td>599.645680</td>\n",
       "      <td>1537.180545</td>\n",
       "      <td>...</td>\n",
       "      <td>1394.892220</td>\n",
       "      <td>1235.679003</td>\n",
       "      <td>1079.798828</td>\n",
       "      <td>840.897715</td>\n",
       "      <td>1635.961432</td>\n",
       "      <td>1298.049765</td>\n",
       "      <td>1220.299229</td>\n",
       "      <td>1554.809872</td>\n",
       "      <td>1180.521719</td>\n",
       "      <td>581.185073</td>\n",
       "    </tr>\n",
       "    <tr>\n",
       "      <th>7560</th>\n",
       "      <td>588.820079</td>\n",
       "      <td>812.288673</td>\n",
       "      <td>1355.432613</td>\n",
       "      <td>1413.629251</td>\n",
       "      <td>687.056754</td>\n",
       "      <td>721.611860</td>\n",
       "      <td>1238.936632</td>\n",
       "      <td>1486.369078</td>\n",
       "      <td>597.346097</td>\n",
       "      <td>1543.880087</td>\n",
       "      <td>...</td>\n",
       "      <td>1400.885955</td>\n",
       "      <td>1244.455601</td>\n",
       "      <td>1079.304005</td>\n",
       "      <td>843.551863</td>\n",
       "      <td>1645.856750</td>\n",
       "      <td>1296.419515</td>\n",
       "      <td>1226.040414</td>\n",
       "      <td>1565.244444</td>\n",
       "      <td>1184.467360</td>\n",
       "      <td>579.826909</td>\n",
       "    </tr>\n",
       "  </tbody>\n",
       "</table>\n",
       "<p>7561 rows × 500 columns</p>\n",
       "</div>"
      ]
     },
     "metadata": {},
     "execution_count": 45
    }
   ],
   "metadata": {}
  },
  {
   "cell_type": "code",
   "execution_count": 46,
   "source": [
    "# Visualize the 30-year Monte Carlo simulation by creating an\r\n",
    "# overlay line plot\r\n",
    "monte_carlo_30_yrs_line_plot = monte_carlo_30_yrs.plot_simulation()\r\n"
   ],
   "outputs": [
    {
     "output_type": "display_data",
     "data": {
      "text/plain": [
       "<Figure size 432x288 with 1 Axes>"
      ],
      "image/png": "[encoded data removed]"
     },
     "metadata": {
      "needs_background": "light"
     }
    }
   ],
   "metadata": {}
  },
  {
   "cell_type": "markdown",
   "source": [
    "#### Step 3: Plot the probability distribution of the Monte Carlo simulation."
   ],
   "metadata": {}
  },
  {
   "cell_type": "code",
   "execution_count": 47,
   "source": [
    "# Visualize the probability distribution of the 30-year Monte Carlo simulation \r\n",
    "# by plotting a histogram\r\n",
    "monte_carlo_30_yrs_distribution_plot = monte_carlo_30_yrs.plot_distribution()\r\n"
   ],
   "outputs": [
    {
     "output_type": "display_data",
     "data": {
      "text/plain": [
       "<Figure size 432x288 with 1 Axes>"
      ],
      "image/png": "[encoded data removed]"
     },
     "metadata": {
      "needs_background": "light"
     }
    }
   ],
   "metadata": {}
  },
  {
   "cell_type": "markdown",
   "source": [
    "#### Step 4: Generate the summary statistics for the Monte Carlo simulation."
   ],
   "metadata": {}
  },
  {
   "cell_type": "code",
   "execution_count": 48,
   "source": [
    "# Generate summary statistics from the 30-year Monte Carlo simulation results\r\n",
    "# Save the results as a variable\r\n",
    "monte_carlo_30_yrs_summary_table = monte_carlo_30_yrs.summarize_cumulative_return()\r\n",
    "\r\n",
    "\r\n",
    "# Review the 30-year Monte Carlo summary statistics\r\n",
    "print(monte_carlo_30_yrs_summary_table)"
   ],
   "outputs": [
    {
     "output_type": "stream",
     "name": "stdout",
     "text": [
      "count            500.000000\n",
      "mean            1158.989776\n",
      "std              508.864210\n",
      "min              284.168194\n",
      "25%              801.972514\n",
      "50%             1058.058129\n",
      "75%             1407.861428\n",
      "max             4276.475439\n",
      "95% CI Lower     498.020817\n",
      "95% CI Upper    2371.475893\n",
      "Name: 7560, dtype: float64\n"
     ]
    }
   ],
   "metadata": {}
  },
  {
   "cell_type": "markdown",
   "source": [
    "### Analyze the Retirement Portfolio Forecasts\n",
    "\n",
    "Using the current value of only the stock and bond portion of the member's portfolio and the summary statistics that you generated from the Monte Carlo simulation, answer the following question in your Jupyter notebook:\n",
    "\n",
    "-  What are the lower and upper bounds for the expected value of the portfolio with a 95% confidence interval?\n"
   ],
   "metadata": {}
  },
  {
   "cell_type": "code",
   "execution_count": 50,
   "source": [
    "# Print the current balance of the stock and bond portion of the members portfolio\r\n",
    "print(f\"The current balance of the Stock and Bond portion of the Portfolio is ${total_stocks_bonds:.2f}\")\r\n"
   ],
   "outputs": [
    {
     "output_type": "stream",
     "name": "stdout",
     "text": [
      "The current balance of the Stock and Bond portion of the Portfolio is $70050.70\n"
     ]
    }
   ],
   "metadata": {}
  },
  {
   "cell_type": "code",
   "execution_count": 52,
   "source": [
    "# Use the lower and upper `95%` confidence intervals to calculate the range of the possible outcomes for the current stock/bond portfolio\r\n",
    "ci_lower_thirty_cumulative_return = round(monte_carlo_30_yrs_summary_table[8]*70050.70)\r\n",
    "ci_upper_thirty_cumulative_return = round(monte_carlo_30_yrs_summary_table[9]*70050.70)\r\n",
    "\r\n",
    "# Print the result of your calculations\r\n",
    "print (f\"The lower 95% is ${ci_lower_thirty_cumulative_return}\")\r\n",
    "print(f\"The upper 95% is ${ci_upper_thirty_cumulative_return}\")\r\n"
   ],
   "outputs": [
    {
     "output_type": "stream",
     "name": "stdout",
     "text": [
      "The lower 95% is $34886707\n",
      "The upper 95% is $166123546\n"
     ]
    }
   ],
   "metadata": {}
  },
  {
   "cell_type": "markdown",
   "source": [
    "### Forecast Cumulative Returns in 10 Years\n",
    "\n",
    "The CTO of the credit union is impressed with your work on these planning tools but wonders if 30 years is a long time to wait until retirement. So, your next task is to adjust the retirement portfolio and run a new Monte Carlo simulation to find out if the changes will allow members to retire earlier.\n",
    "\n",
    "For this new Monte Carlo simulation, do the following: \n",
    "\n",
    "- Forecast the cumulative returns for 10 years from now. Because of the shortened investment horizon (30 years to 10 years), the portfolio needs to invest more heavily in the riskier asset&mdash;that is, stock&mdash;to help accumulate wealth for retirement. \n",
    "\n",
    "- Adjust the weights of the retirement portfolio so that the composition for the Monte Carlo simulation consists of 20% bonds and 80% stocks. \n",
    "\n",
    "- Run the simulation over 500 samples, and use the same data that the API call to Alpaca generated.\n",
    "\n",
    "- Based on the new Monte Carlo simulation, answer the following questions in your Jupyter notebook:\n",
    "\n",
    "    - Using the current value of only the stock and bond portion of the member's portfolio and the summary statistics that you generated from the new Monte Carlo simulation, what are the lower and upper bounds for the expected value of the portfolio (with the new weights) with a 95% confidence interval?\n",
    "\n",
    "    - Will weighting the portfolio more heavily toward stocks allow the credit union members to retire after only 10 years?\n"
   ],
   "metadata": {}
  },
  {
   "cell_type": "code",
   "execution_count": 53,
   "source": [
    "# Configure a Monte Carlo simulation to forecast 10 years cumulative returns\r\n",
    "# The weights should be split 20% to AGG and 80% to SPY.\r\n",
    "# Run 500 samples.\r\n",
    "MC_10_yrs = MCSimulation(\r\n",
    "    portfolio_data=pricing_data_3_yrs_df,\r\n",
    "    weights=[.20,.80],\r\n",
    "    num_simulation=500,\r\n",
    "    num_trading_days=252*10\r\n",
    ")\r\n",
    "\r\n",
    "# Review the simulation input data\r\n",
    "MC_10_yrs.portfolio_data.head()\r\n"
   ],
   "outputs": [
    {
     "output_type": "execute_result",
     "data": {
      "text/plain": [
       "                              AGG                                      \\\n",
       "                             open      high     low    close   volume   \n",
       "time                                                                    \n",
       "2021-03-03 00:00:00-05:00  114.80  114.8300  114.60  114.710  9720752   \n",
       "2021-03-04 00:00:00-05:00  114.79  114.8000  114.26  114.360  5239421   \n",
       "2021-03-05 00:00:00-05:00  114.17  114.3197  114.05  114.285  6190988   \n",
       "2021-03-08 00:00:00-05:00  114.20  114.2300  113.83  113.840  5213848   \n",
       "2021-03-09 00:00:00-05:00  114.20  114.3100  114.00  114.250  5074245   \n",
       "\n",
       "                                           SPY                             \\\n",
       "                          daily_return    open    high       low    close   \n",
       "time                                                                        \n",
       "2021-03-03 00:00:00-05:00          NaN  385.79  386.83  381.3100  381.450   \n",
       "2021-03-04 00:00:00-05:00    -0.003051  381.22  384.00  371.8800  376.730   \n",
       "2021-03-05 00:00:00-05:00    -0.000656  380.46  384.76  372.6400  383.595   \n",
       "2021-03-08 00:00:00-05:00    -0.003894  384.66  387.68  381.4200  381.740   \n",
       "2021-03-09 00:00:00-05:00     0.003602  385.85  389.91  381.7299  387.110   \n",
       "\n",
       "                                                   \n",
       "                              volume daily_return  \n",
       "time                                               \n",
       "2021-03-03 00:00:00-05:00  105013641          NaN  \n",
       "2021-03-04 00:00:00-05:00  168203161    -0.012374  \n",
       "2021-03-05 00:00:00-05:00  133661539     0.018223  \n",
       "2021-03-08 00:00:00-05:00  107185328    -0.004836  \n",
       "2021-03-09 00:00:00-05:00   97898909     0.014067  "
      ],
      "text/html": [
       "<div>\n",
       "<style scoped>\n",
       "    .dataframe tbody tr th:only-of-type {\n",
       "        vertical-align: middle;\n",
       "    }\n",
       "\n",
       "    .dataframe tbody tr th {\n",
       "        vertical-align: top;\n",
       "    }\n",
       "\n",
       "    .dataframe thead tr th {\n",
       "        text-align: left;\n",
       "    }\n",
       "\n",
       "    .dataframe thead tr:last-of-type th {\n",
       "        text-align: right;\n",
       "    }\n",
       "</style>\n",
       "<table border=\"1\" class=\"dataframe\">\n",
       "  <thead>\n",
       "    <tr>\n",
       "      <th></th>\n",
       "      <th colspan=\"6\" halign=\"left\">AGG</th>\n",
       "      <th colspan=\"6\" halign=\"left\">SPY</th>\n",
       "    </tr>\n",
       "    <tr>\n",
       "      <th></th>\n",
       "      <th>open</th>\n",
       "      <th>high</th>\n",
       "      <th>low</th>\n",
       "      <th>close</th>\n",
       "      <th>volume</th>\n",
       "      <th>daily_return</th>\n",
       "      <th>open</th>\n",
       "      <th>high</th>\n",
       "      <th>low</th>\n",
       "      <th>close</th>\n",
       "      <th>volume</th>\n",
       "      <th>daily_return</th>\n",
       "    </tr>\n",
       "    <tr>\n",
       "      <th>time</th>\n",
       "      <th></th>\n",
       "      <th></th>\n",
       "      <th></th>\n",
       "      <th></th>\n",
       "      <th></th>\n",
       "      <th></th>\n",
       "      <th></th>\n",
       "      <th></th>\n",
       "      <th></th>\n",
       "      <th></th>\n",
       "      <th></th>\n",
       "      <th></th>\n",
       "    </tr>\n",
       "  </thead>\n",
       "  <tbody>\n",
       "    <tr>\n",
       "      <th>2021-03-03 00:00:00-05:00</th>\n",
       "      <td>114.80</td>\n",
       "      <td>114.8300</td>\n",
       "      <td>114.60</td>\n",
       "      <td>114.710</td>\n",
       "      <td>9720752</td>\n",
       "      <td>NaN</td>\n",
       "      <td>385.79</td>\n",
       "      <td>386.83</td>\n",
       "      <td>381.3100</td>\n",
       "      <td>381.450</td>\n",
       "      <td>105013641</td>\n",
       "      <td>NaN</td>\n",
       "    </tr>\n",
       "    <tr>\n",
       "      <th>2021-03-04 00:00:00-05:00</th>\n",
       "      <td>114.79</td>\n",
       "      <td>114.8000</td>\n",
       "      <td>114.26</td>\n",
       "      <td>114.360</td>\n",
       "      <td>5239421</td>\n",
       "      <td>-0.003051</td>\n",
       "      <td>381.22</td>\n",
       "      <td>384.00</td>\n",
       "      <td>371.8800</td>\n",
       "      <td>376.730</td>\n",
       "      <td>168203161</td>\n",
       "      <td>-0.012374</td>\n",
       "    </tr>\n",
       "    <tr>\n",
       "      <th>2021-03-05 00:00:00-05:00</th>\n",
       "      <td>114.17</td>\n",
       "      <td>114.3197</td>\n",
       "      <td>114.05</td>\n",
       "      <td>114.285</td>\n",
       "      <td>6190988</td>\n",
       "      <td>-0.000656</td>\n",
       "      <td>380.46</td>\n",
       "      <td>384.76</td>\n",
       "      <td>372.6400</td>\n",
       "      <td>383.595</td>\n",
       "      <td>133661539</td>\n",
       "      <td>0.018223</td>\n",
       "    </tr>\n",
       "    <tr>\n",
       "      <th>2021-03-08 00:00:00-05:00</th>\n",
       "      <td>114.20</td>\n",
       "      <td>114.2300</td>\n",
       "      <td>113.83</td>\n",
       "      <td>113.840</td>\n",
       "      <td>5213848</td>\n",
       "      <td>-0.003894</td>\n",
       "      <td>384.66</td>\n",
       "      <td>387.68</td>\n",
       "      <td>381.4200</td>\n",
       "      <td>381.740</td>\n",
       "      <td>107185328</td>\n",
       "      <td>-0.004836</td>\n",
       "    </tr>\n",
       "    <tr>\n",
       "      <th>2021-03-09 00:00:00-05:00</th>\n",
       "      <td>114.20</td>\n",
       "      <td>114.3100</td>\n",
       "      <td>114.00</td>\n",
       "      <td>114.250</td>\n",
       "      <td>5074245</td>\n",
       "      <td>0.003602</td>\n",
       "      <td>385.85</td>\n",
       "      <td>389.91</td>\n",
       "      <td>381.7299</td>\n",
       "      <td>387.110</td>\n",
       "      <td>97898909</td>\n",
       "      <td>0.014067</td>\n",
       "    </tr>\n",
       "  </tbody>\n",
       "</table>\n",
       "</div>"
      ]
     },
     "metadata": {},
     "execution_count": 53
    }
   ],
   "metadata": {}
  },
  {
   "cell_type": "code",
   "execution_count": 55,
   "source": [
    "# Run the Monte Carlo simulation to forecast 10 years cumulative returns\r\n",
    "MC_10_yrs.calc_cumulative_return()\r\n"
   ],
   "outputs": [
    {
     "output_type": "stream",
     "name": "stdout",
     "text": [
      "Running Monte Carlo simulation number 0.\n",
      "Running Monte Carlo simulation number 10.\n",
      "Running Monte Carlo simulation number 20.\n",
      "Running Monte Carlo simulation number 30.\n",
      "Running Monte Carlo simulation number 40.\n",
      "Running Monte Carlo simulation number 50.\n",
      "Running Monte Carlo simulation number 60.\n",
      "Running Monte Carlo simulation number 70.\n",
      "Running Monte Carlo simulation number 80.\n",
      "Running Monte Carlo simulation number 90.\n",
      "Running Monte Carlo simulation number 100.\n",
      "Running Monte Carlo simulation number 110.\n",
      "Running Monte Carlo simulation number 120.\n",
      "Running Monte Carlo simulation number 130.\n",
      "Running Monte Carlo simulation number 140.\n",
      "Running Monte Carlo simulation number 150.\n",
      "Running Monte Carlo simulation number 160.\n",
      "Running Monte Carlo simulation number 170.\n",
      "Running Monte Carlo simulation number 180.\n",
      "Running Monte Carlo simulation number 190.\n",
      "Running Monte Carlo simulation number 200.\n",
      "Running Monte Carlo simulation number 210.\n",
      "Running Monte Carlo simulation number 220.\n",
      "Running Monte Carlo simulation number 230.\n",
      "Running Monte Carlo simulation number 240.\n",
      "Running Monte Carlo simulation number 250.\n",
      "Running Monte Carlo simulation number 260.\n",
      "Running Monte Carlo simulation number 270.\n",
      "Running Monte Carlo simulation number 280.\n",
      "Running Monte Carlo simulation number 290.\n",
      "Running Monte Carlo simulation number 300.\n",
      "Running Monte Carlo simulation number 310.\n",
      "Running Monte Carlo simulation number 320.\n",
      "Running Monte Carlo simulation number 330.\n",
      "Running Monte Carlo simulation number 340.\n",
      "Running Monte Carlo simulation number 350.\n",
      "Running Monte Carlo simulation number 360.\n",
      "Running Monte Carlo simulation number 370.\n",
      "Running Monte Carlo simulation number 380.\n",
      "Running Monte Carlo simulation number 390.\n",
      "Running Monte Carlo simulation number 400.\n",
      "Running Monte Carlo simulation number 410.\n",
      "Running Monte Carlo simulation number 420.\n",
      "Running Monte Carlo simulation number 430.\n",
      "Running Monte Carlo simulation number 440.\n",
      "Running Monte Carlo simulation number 450.\n",
      "Running Monte Carlo simulation number 460.\n",
      "Running Monte Carlo simulation number 470.\n",
      "Running Monte Carlo simulation number 480.\n",
      "Running Monte Carlo simulation number 490.\n"
     ]
    },
    {
     "output_type": "execute_result",
     "data": {
      "text/plain": [
       "            0          1          2          3          4          5    \\\n",
       "0      1.000000   1.000000   1.000000   1.000000   1.000000   1.000000   \n",
       "1      1.011456   1.004110   1.000563   1.002433   1.001262   0.999898   \n",
       "2      1.014376   1.008202   1.004004   1.007584   1.004857   1.001400   \n",
       "3      1.012638   1.018149   0.997340   1.013573   1.010154   0.996837   \n",
       "4      1.016056   1.018674   0.999997   1.020500   1.011258   0.997519   \n",
       "...         ...        ...        ...        ...        ...        ...   \n",
       "2516  24.957778  24.479102  20.807378  22.113348  17.357011  15.551165   \n",
       "2517  25.126297  24.587606  20.927595  22.077765  17.498935  15.656264   \n",
       "2518  25.242628  24.660211  21.082827  21.979389  17.648156  15.372321   \n",
       "2519  25.069667  24.820426  21.134413  22.183616  17.700443  15.367481   \n",
       "2520  25.030097  24.988172  21.010824  22.386088  17.719742  15.317929   \n",
       "\n",
       "            6          7          8          9    ...        490        491  \\\n",
       "0      1.000000   1.000000   1.000000   1.000000  ...   1.000000   1.000000   \n",
       "1      1.003756   1.004449   1.000464   1.007071  ...   1.011369   0.999941   \n",
       "2      1.012174   1.003729   0.997314   1.012683  ...   1.020764   0.997981   \n",
       "3      1.019964   0.999355   1.002230   1.022282  ...   1.012660   0.998288   \n",
       "4      1.023664   0.991643   0.999880   1.025218  ...   1.012819   0.998920   \n",
       "...         ...        ...        ...        ...  ...        ...        ...   \n",
       "2516  14.654691  18.207975  25.985713  10.186713  ...  33.285431  26.285473   \n",
       "2517  14.538103  18.210836  25.726811  10.207739  ...  33.055013  26.427178   \n",
       "2518  14.547693  18.080153  25.702494  10.253445  ...  32.634209  26.428624   \n",
       "2519  14.557750  18.432462  25.650908  10.339353  ...  32.817474  26.475839   \n",
       "2520  14.703182  18.413091  25.855308  10.344041  ...  33.063716  26.536676   \n",
       "\n",
       "            492        493        494        495        496        497  \\\n",
       "0      1.000000   1.000000   1.000000   1.000000   1.000000   1.000000   \n",
       "1      0.996725   1.007985   1.003602   0.993293   1.005923   1.002751   \n",
       "2      0.995164   1.008053   1.002018   0.995593   1.003932   1.014653   \n",
       "3      0.992594   1.013105   0.994927   0.997337   1.001079   1.017986   \n",
       "4      0.992421   1.015432   0.995861   1.002701   0.997906   1.024482   \n",
       "...         ...        ...        ...        ...        ...        ...   \n",
       "2516  14.705949  14.854561  16.162803  14.100001  32.331336  11.644545   \n",
       "2517  14.780603  14.814755  16.171818  14.127908  32.103623  11.724286   \n",
       "2518  14.700054  14.957151  16.129540  14.102949  32.384822  11.719448   \n",
       "2519  14.757444  14.804217  16.121892  13.998437  32.197795  11.707599   \n",
       "2520  14.786598  14.854753  16.274628  14.148123  32.162411  11.862876   \n",
       "\n",
       "            498        499  \n",
       "0      1.000000   1.000000  \n",
       "1      0.996477   1.000513  \n",
       "2      1.012563   0.998417  \n",
       "3      1.020447   0.999042  \n",
       "4      1.013269   0.997686  \n",
       "...         ...        ...  \n",
       "2516  12.927115  18.361480  \n",
       "2517  12.897662  18.294100  \n",
       "2518  12.965570  18.238590  \n",
       "2519  12.901241  18.245059  \n",
       "2520  12.884610  18.407394  \n",
       "\n",
       "[2521 rows x 500 columns]"
      ],
      "text/html": [
       "<div>\n",
       "<style scoped>\n",
       "    .dataframe tbody tr th:only-of-type {\n",
       "        vertical-align: middle;\n",
       "    }\n",
       "\n",
       "    .dataframe tbody tr th {\n",
       "        vertical-align: top;\n",
       "    }\n",
       "\n",
       "    .dataframe thead th {\n",
       "        text-align: right;\n",
       "    }\n",
       "</style>\n",
       "<table border=\"1\" class=\"dataframe\">\n",
       "  <thead>\n",
       "    <tr style=\"text-align: right;\">\n",
       "      <th></th>\n",
       "      <th>0</th>\n",
       "      <th>1</th>\n",
       "      <th>2</th>\n",
       "      <th>3</th>\n",
       "      <th>4</th>\n",
       "      <th>5</th>\n",
       "      <th>6</th>\n",
       "      <th>7</th>\n",
       "      <th>8</th>\n",
       "      <th>9</th>\n",
       "      <th>...</th>\n",
       "      <th>490</th>\n",
       "      <th>491</th>\n",
       "      <th>492</th>\n",
       "      <th>493</th>\n",
       "      <th>494</th>\n",
       "      <th>495</th>\n",
       "      <th>496</th>\n",
       "      <th>497</th>\n",
       "      <th>498</th>\n",
       "      <th>499</th>\n",
       "    </tr>\n",
       "  </thead>\n",
       "  <tbody>\n",
       "    <tr>\n",
       "      <th>0</th>\n",
       "      <td>1.000000</td>\n",
       "      <td>1.000000</td>\n",
       "      <td>1.000000</td>\n",
       "      <td>1.000000</td>\n",
       "      <td>1.000000</td>\n",
       "      <td>1.000000</td>\n",
       "      <td>1.000000</td>\n",
       "      <td>1.000000</td>\n",
       "      <td>1.000000</td>\n",
       "      <td>1.000000</td>\n",
       "      <td>...</td>\n",
       "      <td>1.000000</td>\n",
       "      <td>1.000000</td>\n",
       "      <td>1.000000</td>\n",
       "      <td>1.000000</td>\n",
       "      <td>1.000000</td>\n",
       "      <td>1.000000</td>\n",
       "      <td>1.000000</td>\n",
       "      <td>1.000000</td>\n",
       "      <td>1.000000</td>\n",
       "      <td>1.000000</td>\n",
       "    </tr>\n",
       "    <tr>\n",
       "      <th>1</th>\n",
       "      <td>1.011456</td>\n",
       "      <td>1.004110</td>\n",
       "      <td>1.000563</td>\n",
       "      <td>1.002433</td>\n",
       "      <td>1.001262</td>\n",
       "      <td>0.999898</td>\n",
       "      <td>1.003756</td>\n",
       "      <td>1.004449</td>\n",
       "      <td>1.000464</td>\n",
       "      <td>1.007071</td>\n",
       "      <td>...</td>\n",
       "      <td>1.011369</td>\n",
       "      <td>0.999941</td>\n",
       "      <td>0.996725</td>\n",
       "      <td>1.007985</td>\n",
       "      <td>1.003602</td>\n",
       "      <td>0.993293</td>\n",
       "      <td>1.005923</td>\n",
       "      <td>1.002751</td>\n",
       "      <td>0.996477</td>\n",
       "      <td>1.000513</td>\n",
       "    </tr>\n",
       "    <tr>\n",
       "      <th>2</th>\n",
       "      <td>1.014376</td>\n",
       "      <td>1.008202</td>\n",
       "      <td>1.004004</td>\n",
       "      <td>1.007584</td>\n",
       "      <td>1.004857</td>\n",
       "      <td>1.001400</td>\n",
       "      <td>1.012174</td>\n",
       "      <td>1.003729</td>\n",
       "      <td>0.997314</td>\n",
       "      <td>1.012683</td>\n",
       "      <td>...</td>\n",
       "      <td>1.020764</td>\n",
       "      <td>0.997981</td>\n",
       "      <td>0.995164</td>\n",
       "      <td>1.008053</td>\n",
       "      <td>1.002018</td>\n",
       "      <td>0.995593</td>\n",
       "      <td>1.003932</td>\n",
       "      <td>1.014653</td>\n",
       "      <td>1.012563</td>\n",
       "      <td>0.998417</td>\n",
       "    </tr>\n",
       "    <tr>\n",
       "      <th>3</th>\n",
       "      <td>1.012638</td>\n",
       "      <td>1.018149</td>\n",
       "      <td>0.997340</td>\n",
       "      <td>1.013573</td>\n",
       "      <td>1.010154</td>\n",
       "      <td>0.996837</td>\n",
       "      <td>1.019964</td>\n",
       "      <td>0.999355</td>\n",
       "      <td>1.002230</td>\n",
       "      <td>1.022282</td>\n",
       "      <td>...</td>\n",
       "      <td>1.012660</td>\n",
       "      <td>0.998288</td>\n",
       "      <td>0.992594</td>\n",
       "      <td>1.013105</td>\n",
       "      <td>0.994927</td>\n",
       "      <td>0.997337</td>\n",
       "      <td>1.001079</td>\n",
       "      <td>1.017986</td>\n",
       "      <td>1.020447</td>\n",
       "      <td>0.999042</td>\n",
       "    </tr>\n",
       "    <tr>\n",
       "      <th>4</th>\n",
       "      <td>1.016056</td>\n",
       "      <td>1.018674</td>\n",
       "      <td>0.999997</td>\n",
       "      <td>1.020500</td>\n",
       "      <td>1.011258</td>\n",
       "      <td>0.997519</td>\n",
       "      <td>1.023664</td>\n",
       "      <td>0.991643</td>\n",
       "      <td>0.999880</td>\n",
       "      <td>1.025218</td>\n",
       "      <td>...</td>\n",
       "      <td>1.012819</td>\n",
       "      <td>0.998920</td>\n",
       "      <td>0.992421</td>\n",
       "      <td>1.015432</td>\n",
       "      <td>0.995861</td>\n",
       "      <td>1.002701</td>\n",
       "      <td>0.997906</td>\n",
       "      <td>1.024482</td>\n",
       "      <td>1.013269</td>\n",
       "      <td>0.997686</td>\n",
       "    </tr>\n",
       "    <tr>\n",
       "      <th>...</th>\n",
       "      <td>...</td>\n",
       "      <td>...</td>\n",
       "      <td>...</td>\n",
       "      <td>...</td>\n",
       "      <td>...</td>\n",
       "      <td>...</td>\n",
       "      <td>...</td>\n",
       "      <td>...</td>\n",
       "      <td>...</td>\n",
       "      <td>...</td>\n",
       "      <td>...</td>\n",
       "      <td>...</td>\n",
       "      <td>...</td>\n",
       "      <td>...</td>\n",
       "      <td>...</td>\n",
       "      <td>...</td>\n",
       "      <td>...</td>\n",
       "      <td>...</td>\n",
       "      <td>...</td>\n",
       "      <td>...</td>\n",
       "      <td>...</td>\n",
       "    </tr>\n",
       "    <tr>\n",
       "      <th>2516</th>\n",
       "      <td>24.957778</td>\n",
       "      <td>24.479102</td>\n",
       "      <td>20.807378</td>\n",
       "      <td>22.113348</td>\n",
       "      <td>17.357011</td>\n",
       "      <td>15.551165</td>\n",
       "      <td>14.654691</td>\n",
       "      <td>18.207975</td>\n",
       "      <td>25.985713</td>\n",
       "      <td>10.186713</td>\n",
       "      <td>...</td>\n",
       "      <td>33.285431</td>\n",
       "      <td>26.285473</td>\n",
       "      <td>14.705949</td>\n",
       "      <td>14.854561</td>\n",
       "      <td>16.162803</td>\n",
       "      <td>14.100001</td>\n",
       "      <td>32.331336</td>\n",
       "      <td>11.644545</td>\n",
       "      <td>12.927115</td>\n",
       "      <td>18.361480</td>\n",
       "    </tr>\n",
       "    <tr>\n",
       "      <th>2517</th>\n",
       "      <td>25.126297</td>\n",
       "      <td>24.587606</td>\n",
       "      <td>20.927595</td>\n",
       "      <td>22.077765</td>\n",
       "      <td>17.498935</td>\n",
       "      <td>15.656264</td>\n",
       "      <td>14.538103</td>\n",
       "      <td>18.210836</td>\n",
       "      <td>25.726811</td>\n",
       "      <td>10.207739</td>\n",
       "      <td>...</td>\n",
       "      <td>33.055013</td>\n",
       "      <td>26.427178</td>\n",
       "      <td>14.780603</td>\n",
       "      <td>14.814755</td>\n",
       "      <td>16.171818</td>\n",
       "      <td>14.127908</td>\n",
       "      <td>32.103623</td>\n",
       "      <td>11.724286</td>\n",
       "      <td>12.897662</td>\n",
       "      <td>18.294100</td>\n",
       "    </tr>\n",
       "    <tr>\n",
       "      <th>2518</th>\n",
       "      <td>25.242628</td>\n",
       "      <td>24.660211</td>\n",
       "      <td>21.082827</td>\n",
       "      <td>21.979389</td>\n",
       "      <td>17.648156</td>\n",
       "      <td>15.372321</td>\n",
       "      <td>14.547693</td>\n",
       "      <td>18.080153</td>\n",
       "      <td>25.702494</td>\n",
       "      <td>10.253445</td>\n",
       "      <td>...</td>\n",
       "      <td>32.634209</td>\n",
       "      <td>26.428624</td>\n",
       "      <td>14.700054</td>\n",
       "      <td>14.957151</td>\n",
       "      <td>16.129540</td>\n",
       "      <td>14.102949</td>\n",
       "      <td>32.384822</td>\n",
       "      <td>11.719448</td>\n",
       "      <td>12.965570</td>\n",
       "      <td>18.238590</td>\n",
       "    </tr>\n",
       "    <tr>\n",
       "      <th>2519</th>\n",
       "      <td>25.069667</td>\n",
       "      <td>24.820426</td>\n",
       "      <td>21.134413</td>\n",
       "      <td>22.183616</td>\n",
       "      <td>17.700443</td>\n",
       "      <td>15.367481</td>\n",
       "      <td>14.557750</td>\n",
       "      <td>18.432462</td>\n",
       "      <td>25.650908</td>\n",
       "      <td>10.339353</td>\n",
       "      <td>...</td>\n",
       "      <td>32.817474</td>\n",
       "      <td>26.475839</td>\n",
       "      <td>14.757444</td>\n",
       "      <td>14.804217</td>\n",
       "      <td>16.121892</td>\n",
       "      <td>13.998437</td>\n",
       "      <td>32.197795</td>\n",
       "      <td>11.707599</td>\n",
       "      <td>12.901241</td>\n",
       "      <td>18.245059</td>\n",
       "    </tr>\n",
       "    <tr>\n",
       "      <th>2520</th>\n",
       "      <td>25.030097</td>\n",
       "      <td>24.988172</td>\n",
       "      <td>21.010824</td>\n",
       "      <td>22.386088</td>\n",
       "      <td>17.719742</td>\n",
       "      <td>15.317929</td>\n",
       "      <td>14.703182</td>\n",
       "      <td>18.413091</td>\n",
       "      <td>25.855308</td>\n",
       "      <td>10.344041</td>\n",
       "      <td>...</td>\n",
       "      <td>33.063716</td>\n",
       "      <td>26.536676</td>\n",
       "      <td>14.786598</td>\n",
       "      <td>14.854753</td>\n",
       "      <td>16.274628</td>\n",
       "      <td>14.148123</td>\n",
       "      <td>32.162411</td>\n",
       "      <td>11.862876</td>\n",
       "      <td>12.884610</td>\n",
       "      <td>18.407394</td>\n",
       "    </tr>\n",
       "  </tbody>\n",
       "</table>\n",
       "<p>2521 rows × 500 columns</p>\n",
       "</div>"
      ]
     },
     "metadata": {},
     "execution_count": 55
    }
   ],
   "metadata": {}
  },
  {
   "cell_type": "code",
   "execution_count": 56,
   "source": [
    "# Visualize the 10-year Monte Carlo simulation by creating an\r\n",
    "# overlay line plot\r\n",
    "MC_10_yrs_line_plot = MC_10_yrs.plot_simulation()\r\n"
   ],
   "outputs": [
    {
     "output_type": "display_data",
     "data": {
      "text/plain": [
       "<Figure size 432x288 with 1 Axes>"
      ],
      "image/png": "[encoded data removed]"
     },
     "metadata": {
      "needs_background": "light"
     }
    }
   ],
   "metadata": {}
  },
  {
   "cell_type": "code",
   "execution_count": 57,
   "source": [
    "# Visualize the probability distribution of the 10-year Monte Carlo simulation \r\n",
    "# by plotting a histogram\r\n",
    "MC_10_yrs_distribution_plot = MC_10_yrs.plot_distribution()\r\n"
   ],
   "outputs": [
    {
     "output_type": "display_data",
     "data": {
      "text/plain": [
       "<Figure size 432x288 with 1 Axes>"
      ],
      "image/png": "[encoded data removed]"
     },
     "metadata": {
      "needs_background": "light"
     }
    }
   ],
   "metadata": {}
  },
  {
   "cell_type": "code",
   "execution_count": 58,
   "source": [
    "# Generate summary statistics from the 10-year Monte Carlo simulation results\r\n",
    "# Save the results as a variable\r\n",
    "MC_10_yrs_summary_table = MC_10_yrs.summarize_cumulative_return()\r\n",
    "\r\n",
    "\r\n",
    "# Review the 10-year Monte Carlo summary statistics\r\n",
    "print(MC_10_yrs_summary_table)"
   ],
   "outputs": [
    {
     "output_type": "stream",
     "name": "stdout",
     "text": [
      "count           500.000000\n",
      "mean             20.325060\n",
      "std               6.575319\n",
      "min               8.425350\n",
      "25%              16.000421\n",
      "50%              19.620446\n",
      "75%              23.324999\n",
      "max              48.483994\n",
      "95% CI Lower     10.328053\n",
      "95% CI Upper     36.368527\n",
      "Name: 2520, dtype: float64\n"
     ]
    }
   ],
   "metadata": {}
  },
  {
   "cell_type": "markdown",
   "source": [
    "### Answer the following questions:"
   ],
   "metadata": {}
  },
  {
   "cell_type": "markdown",
   "source": [
    "#### Question: Using the current value of only the stock and bond portion of the member's portfolio and the summary statistics that you generated from the new Monte Carlo simulation, what are the lower and upper bounds for the expected value of the portfolio (with the new weights) with a 95% confidence interval?"
   ],
   "metadata": {}
  },
  {
   "cell_type": "code",
   "execution_count": 59,
   "source": [
    "# Print the current balance of the stock and bond portion of the members portfolio\r\n",
    "print(f\"The current balance of the stock and bond portion of the portfolio is $ {total_stocks_bonds:.2f}\")\r\n"
   ],
   "outputs": [
    {
     "output_type": "stream",
     "name": "stdout",
     "text": [
      "The current balance of the stock and bond portion of the portfolio is $ 70050.70\n"
     ]
    }
   ],
   "metadata": {}
  },
  {
   "cell_type": "code",
   "execution_count": 60,
   "source": [
    "# Use the lower and upper `95%` confidence intervals to calculate the range of the possible outcomes for the current stock/bond portfolio\r\n",
    "ci_lower_ten_cumulative_return = MC_10_yrs_summary_table[8]*70050.70\r\n",
    "ci_upper_ten_cumulative_return = MC_10_yrs_summary_table[9]*70050.70\r\n",
    "\r\n",
    "# Print the result of your calculations\r\n",
    "print(f'The lower 95% is ${ci_lower_ten_cumulative_return}')\r\n",
    "print(f'The upper 95% is ${ci_upper_ten_cumulative_return}')\r\n"
   ],
   "outputs": [
    {
     "output_type": "stream",
     "name": "stdout",
     "text": [
      "The lower 95% is $723487.3709116972\n",
      "The upper 95% is $2547640.770009083\n"
     ]
    }
   ],
   "metadata": {}
  },
  {
   "cell_type": "markdown",
   "source": [
    "#### Question: Will weighting the portfolio more heavily to stocks allow the credit union members to retire after only 10 years?"
   ],
   "metadata": {}
  },
  {
   "cell_type": "raw",
   "source": [
    "**Answer** Based on the 95% confidence intervals, Yes."
   ],
   "metadata": {}
  },
  {
   "cell_type": "code",
   "execution_count": null,
   "source": [],
   "outputs": [],
   "metadata": {}
  }
 ],
 "metadata": {
  "kernelspec": {
   "name": "python3",
   "display_name": "Python 3.7.10 64-bit ('dev': conda)"
  },
  "language_info": {
   "codemirror_mode": {
    "name": "ipython",
    "version": 3
   },
   "file_extension": ".py",
   "mimetype": "text/x-python",
   "name": "python",
   "nbconvert_exporter": "python",
   "pygments_lexer": "ipython3",
   "version": "3.7.10"
  },
  "interpreter": {
   "hash": "137ad9d7b2570d529c88a33838f2de0c779c3c5b10793e5901ae46d2e1f26e9c"
  }
 },
 "nbformat": 4,
 "nbformat_minor": 4
}